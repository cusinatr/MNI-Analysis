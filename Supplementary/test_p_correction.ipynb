{
 "cells": [
  {
   "cell_type": "markdown",
   "metadata": {},
   "source": [
    "Test different methods of correcting for spatial autocorrelation inherit in brain maps."
   ]
  },
  {
   "cell_type": "code",
   "execution_count": 1,
   "metadata": {},
   "outputs": [],
   "source": [
    "%load_ext autoreload\n",
    "%autoreload 2"
   ]
  },
  {
   "cell_type": "code",
   "execution_count": 18,
   "metadata": {},
   "outputs": [],
   "source": [
    "from pathlib import Path\n",
    "import mne\n",
    "import mni_utils as uti\n",
    "import pandas as pd\n",
    "import numpy as np\n",
    "from scipy.stats import pearsonr, spearmanr"
   ]
  },
  {
   "cell_type": "markdown",
   "metadata": {},
   "source": [
    "Import some test data:"
   ]
  },
  {
   "cell_type": "code",
   "execution_count": 6,
   "metadata": {},
   "outputs": [],
   "source": [
    "df_x = pd.read_csv(\n",
    "    \"F:\\iEEG_neural_dynamics\\MNIOpen\\df_structural_avg.csv\", index_col=0\n",
    ")[\"T1T2\"]\n",
    "df_y = pd.read_csv(\n",
    "    \"F:\\iEEG_neural_dynamics\\MNIOpen\\Results_psd_exp\\exp_parc_W.csv\", index_col=0\n",
    ").squeeze()"
   ]
  },
  {
   "cell_type": "markdown",
   "metadata": {},
   "source": [
    "Import parcellation and find centroids"
   ]
  },
  {
   "cell_type": "code",
   "execution_count": 24,
   "metadata": {},
   "outputs": [
    {
     "name": "stdout",
     "output_type": "stream",
     "text": [
      "Reading labels from parcellation...\n",
      "   read 181 labels from C:\\Users\\ricca\\mne_data\\MNE-sample-data\\subjects\\fsaverage\\label\\lh.HCPMMP1.annot\n",
      "   read 181 labels from C:\\Users\\ricca\\mne_data\\MNE-sample-data\\subjects\\fsaverage\\label\\rh.HCPMMP1.annot\n"
     ]
    }
   ],
   "source": [
    "subjects_dir = str(mne.datasets.sample.data_path()) + \"/subjects\"\n",
    "surface_name = \"HCPMMP1\"\n",
    "labels = mne.read_labels_from_annot(\n",
    "    \"fsaverage\", surface_name, \"both\", subjects_dir=subjects_dir, surf_name=\"sphere\"\n",
    ")"
   ]
  },
  {
   "cell_type": "code",
   "execution_count": 26,
   "metadata": {},
   "outputs": [
    {
     "data": {
      "text/plain": [
       "[<Label | fsaverage, '???-lh', lh : 13868 vertices>,\n",
       " <Label | fsaverage, '???-rh', rh : 13940 vertices>,\n",
       " <Label | fsaverage, 'L_10d_ROI-lh', lh : 867 vertices>,\n",
       " <Label | fsaverage, 'L_10pp_ROI-lh', lh : 401 vertices>,\n",
       " <Label | fsaverage, 'L_10r_ROI-lh', lh : 445 vertices>,\n",
       " <Label | fsaverage, 'L_10v_ROI-lh', lh : 694 vertices>,\n",
       " <Label | fsaverage, 'L_11l_ROI-lh', lh : 713 vertices>,\n",
       " <Label | fsaverage, 'L_13l_ROI-lh', lh : 791 vertices>,\n",
       " <Label | fsaverage, 'L_1_ROI-lh', lh : 2162 vertices>,\n",
       " <Label | fsaverage, 'L_23c_ROI-lh', lh : 1253 vertices>,\n",
       " <Label | fsaverage, 'L_23d_ROI-lh', lh : 511 vertices>,\n",
       " <Label | fsaverage, 'L_24dd_ROI-lh', lh : 1115 vertices>,\n",
       " <Label | fsaverage, 'L_24dv_ROI-lh', lh : 677 vertices>,\n",
       " <Label | fsaverage, 'L_25_ROI-lh', lh : 369 vertices>,\n",
       " <Label | fsaverage, 'L_2_ROI-lh', lh : 2554 vertices>,\n",
       " <Label | fsaverage, 'L_31a_ROI-lh', lh : 346 vertices>,\n",
       " <Label | fsaverage, 'L_31pd_ROI-lh', lh : 545 vertices>,\n",
       " <Label | fsaverage, 'L_31pv_ROI-lh', lh : 506 vertices>,\n",
       " <Label | fsaverage, 'L_33pr_ROI-lh', lh : 311 vertices>,\n",
       " <Label | fsaverage, 'L_3a_ROI-lh', lh : 1812 vertices>,\n",
       " <Label | fsaverage, 'L_3b_ROI-lh', lh : 2845 vertices>,\n",
       " <Label | fsaverage, 'L_43_ROI-lh', lh : 563 vertices>,\n",
       " <Label | fsaverage, 'L_44_ROI-lh', lh : 696 vertices>,\n",
       " <Label | fsaverage, 'L_45_ROI-lh', lh : 956 vertices>,\n",
       " <Label | fsaverage, 'L_46_ROI-lh', lh : 1057 vertices>,\n",
       " <Label | fsaverage, 'L_47l_ROI-lh', lh : 657 vertices>,\n",
       " <Label | fsaverage, 'L_47m_ROI-lh', lh : 237 vertices>,\n",
       " <Label | fsaverage, 'L_47s_ROI-lh', lh : 626 vertices>,\n",
       " <Label | fsaverage, 'L_4_ROI-lh', lh : 4015 vertices>,\n",
       " <Label | fsaverage, 'L_52_ROI-lh', lh : 507 vertices>,\n",
       " <Label | fsaverage, 'L_55b_ROI-lh', lh : 656 vertices>,\n",
       " <Label | fsaverage, 'L_5L_ROI-lh', lh : 854 vertices>,\n",
       " <Label | fsaverage, 'L_5m_ROI-lh', lh : 503 vertices>,\n",
       " <Label | fsaverage, 'L_5mv_ROI-lh', lh : 977 vertices>,\n",
       " <Label | fsaverage, 'L_6a_ROI-lh', lh : 1765 vertices>,\n",
       " <Label | fsaverage, 'L_6d_ROI-lh', lh : 917 vertices>,\n",
       " <Label | fsaverage, 'L_6ma_ROI-lh', lh : 966 vertices>,\n",
       " <Label | fsaverage, 'L_6mp_ROI-lh', lh : 1434 vertices>,\n",
       " <Label | fsaverage, 'L_6r_ROI-lh', lh : 1176 vertices>,\n",
       " <Label | fsaverage, 'L_6v_ROI-lh', lh : 463 vertices>,\n",
       " <Label | fsaverage, 'L_7AL_ROI-lh', lh : 1082 vertices>,\n",
       " <Label | fsaverage, 'L_7Am_ROI-lh', lh : 1047 vertices>,\n",
       " <Label | fsaverage, 'L_7PC_ROI-lh', lh : 865 vertices>,\n",
       " <Label | fsaverage, 'L_7PL_ROI-lh', lh : 531 vertices>,\n",
       " <Label | fsaverage, 'L_7Pm_ROI-lh', lh : 490 vertices>,\n",
       " <Label | fsaverage, 'L_7m_ROI-lh', lh : 636 vertices>,\n",
       " <Label | fsaverage, 'L_8Ad_ROI-lh', lh : 1157 vertices>,\n",
       " <Label | fsaverage, 'L_8Av_ROI-lh', lh : 977 vertices>,\n",
       " <Label | fsaverage, 'L_8BL_ROI-lh', lh : 633 vertices>,\n",
       " <Label | fsaverage, 'L_8BM_ROI-lh', lh : 781 vertices>,\n",
       " <Label | fsaverage, 'L_8C_ROI-lh', lh : 1042 vertices>,\n",
       " <Label | fsaverage, 'L_9-46d_ROI-lh', lh : 1336 vertices>,\n",
       " <Label | fsaverage, 'L_9a_ROI-lh', lh : 879 vertices>,\n",
       " <Label | fsaverage, 'L_9m_ROI-lh', lh : 1140 vertices>,\n",
       " <Label | fsaverage, 'L_9p_ROI-lh', lh : 741 vertices>,\n",
       " <Label | fsaverage, 'L_A1_ROI-lh', lh : 400 vertices>,\n",
       " <Label | fsaverage, 'L_A4_ROI-lh', lh : 944 vertices>,\n",
       " <Label | fsaverage, 'L_A5_ROI-lh', lh : 736 vertices>,\n",
       " <Label | fsaverage, 'L_AAIC_ROI-lh', lh : 541 vertices>,\n",
       " <Label | fsaverage, 'L_AIP_ROI-lh', lh : 1639 vertices>,\n",
       " <Label | fsaverage, 'L_AVI_ROI-lh', lh : 716 vertices>,\n",
       " <Label | fsaverage, 'L_DVT_ROI-lh', lh : 688 vertices>,\n",
       " <Label | fsaverage, 'L_EC_ROI-lh', lh : 587 vertices>,\n",
       " <Label | fsaverage, 'L_FEF_ROI-lh', lh : 832 vertices>,\n",
       " <Label | fsaverage, 'L_FFC_ROI-lh', lh : 780 vertices>,\n",
       " <Label | fsaverage, 'L_FOP1_ROI-lh', lh : 299 vertices>,\n",
       " <Label | fsaverage, 'L_FOP2_ROI-lh', lh : 400 vertices>,\n",
       " <Label | fsaverage, 'L_FOP3_ROI-lh', lh : 516 vertices>,\n",
       " <Label | fsaverage, 'L_FOP4_ROI-lh', lh : 1002 vertices>,\n",
       " <Label | fsaverage, 'L_FOP5_ROI-lh', lh : 708 vertices>,\n",
       " <Label | fsaverage, 'L_FST_ROI-lh', lh : 550 vertices>,\n",
       " <Label | fsaverage, 'L_H_ROI-lh', lh : 1265 vertices>,\n",
       " <Label | fsaverage, 'L_IFJa_ROI-lh', lh : 567 vertices>,\n",
       " <Label | fsaverage, 'L_IFJp_ROI-lh', lh : 502 vertices>,\n",
       " <Label | fsaverage, 'L_IFSa_ROI-lh', lh : 666 vertices>,\n",
       " <Label | fsaverage, 'L_IFSp_ROI-lh', lh : 520 vertices>,\n",
       " <Label | fsaverage, 'L_IP0_ROI-lh', lh : 526 vertices>,\n",
       " <Label | fsaverage, 'L_IP1_ROI-lh', lh : 819 vertices>,\n",
       " <Label | fsaverage, 'L_IP2_ROI-lh', lh : 1000 vertices>,\n",
       " <Label | fsaverage, 'L_IPS1_ROI-lh', lh : 652 vertices>,\n",
       " <Label | fsaverage, 'L_Ig_ROI-lh', lh : 544 vertices>,\n",
       " <Label | fsaverage, 'L_LBelt_ROI-lh', lh : 591 vertices>,\n",
       " <Label | fsaverage, 'L_LIPd_ROI-lh', lh : 615 vertices>,\n",
       " <Label | fsaverage, 'L_LIPv_ROI-lh', lh : 765 vertices>,\n",
       " <Label | fsaverage, 'L_LO1_ROI-lh', lh : 318 vertices>,\n",
       " <Label | fsaverage, 'L_LO2_ROI-lh', lh : 323 vertices>,\n",
       " <Label | fsaverage, 'L_LO3_ROI-lh', lh : 325 vertices>,\n",
       " <Label | fsaverage, 'L_MBelt_ROI-lh', lh : 600 vertices>,\n",
       " <Label | fsaverage, 'L_MIP_ROI-lh', lh : 819 vertices>,\n",
       " <Label | fsaverage, 'L_MI_ROI-lh', lh : 698 vertices>,\n",
       " <Label | fsaverage, 'L_MST_ROI-lh', lh : 360 vertices>,\n",
       " <Label | fsaverage, 'L_MT_ROI-lh', lh : 292 vertices>,\n",
       " <Label | fsaverage, 'L_OFC_ROI-lh', lh : 1177 vertices>,\n",
       " <Label | fsaverage, 'L_OP1_ROI-lh', lh : 760 vertices>,\n",
       " <Label | fsaverage, 'L_OP2-3_ROI-lh', lh : 665 vertices>,\n",
       " <Label | fsaverage, 'L_OP4_ROI-lh', lh : 902 vertices>,\n",
       " <Label | fsaverage, 'L_PBelt_ROI-lh', lh : 745 vertices>,\n",
       " <Label | fsaverage, 'L_PCV_ROI-lh', lh : 712 vertices>,\n",
       " <Label | fsaverage, 'L_PEF_ROI-lh', lh : 375 vertices>,\n",
       " <Label | fsaverage, 'L_PF_ROI-lh', lh : 2181 vertices>,\n",
       " <Label | fsaverage, 'L_PFcm_ROI-lh', lh : 679 vertices>,\n",
       " <Label | fsaverage, 'L_PFm_ROI-lh', lh : 2451 vertices>,\n",
       " <Label | fsaverage, 'L_PFop_ROI-lh', lh : 839 vertices>,\n",
       " <Label | fsaverage, 'L_PFt_ROI-lh', lh : 1260 vertices>,\n",
       " <Label | fsaverage, 'L_PGi_ROI-lh', lh : 1744 vertices>,\n",
       " <Label | fsaverage, 'L_PGp_ROI-lh', lh : 670 vertices>,\n",
       " <Label | fsaverage, 'L_PGs_ROI-lh', lh : 1324 vertices>,\n",
       " <Label | fsaverage, 'L_PHA1_ROI-lh', lh : 617 vertices>,\n",
       " <Label | fsaverage, 'L_PHA2_ROI-lh', lh : 394 vertices>,\n",
       " <Label | fsaverage, 'L_PHA3_ROI-lh', lh : 716 vertices>,\n",
       " <Label | fsaverage, 'L_PHT_ROI-lh', lh : 870 vertices>,\n",
       " <Label | fsaverage, 'L_PH_ROI-lh', lh : 1003 vertices>,\n",
       " <Label | fsaverage, 'L_PIT_ROI-lh', lh : 314 vertices>,\n",
       " <Label | fsaverage, 'L_PI_ROI-lh', lh : 565 vertices>,\n",
       " <Label | fsaverage, 'L_POS1_ROI-lh', lh : 1045 vertices>,\n",
       " <Label | fsaverage, 'L_POS2_ROI-lh', lh : 1209 vertices>,\n",
       " <Label | fsaverage, 'L_PSL_ROI-lh', lh : 873 vertices>,\n",
       " <Label | fsaverage, 'L_PeEc_ROI-lh', lh : 1248 vertices>,\n",
       " <Label | fsaverage, 'L_Pir_ROI-lh', lh : 669 vertices>,\n",
       " <Label | fsaverage, 'L_PoI1_ROI-lh', lh : 774 vertices>,\n",
       " <Label | fsaverage, 'L_PoI2_ROI-lh', lh : 805 vertices>,\n",
       " <Label | fsaverage, 'L_PreS_ROI-lh', lh : 833 vertices>,\n",
       " <Label | fsaverage, 'L_ProS_ROI-lh', lh : 690 vertices>,\n",
       " <Label | fsaverage, 'L_RI_ROI-lh', lh : 909 vertices>,\n",
       " <Label | fsaverage, 'L_RSC_ROI-lh', lh : 1092 vertices>,\n",
       " <Label | fsaverage, 'L_SCEF_ROI-lh', lh : 1139 vertices>,\n",
       " <Label | fsaverage, 'L_SFL_ROI-lh', lh : 888 vertices>,\n",
       " <Label | fsaverage, 'L_STGa_ROI-lh', lh : 311 vertices>,\n",
       " <Label | fsaverage, 'L_STSda_ROI-lh', lh : 638 vertices>,\n",
       " <Label | fsaverage, 'L_STSdp_ROI-lh', lh : 956 vertices>,\n",
       " <Label | fsaverage, 'L_STSva_ROI-lh', lh : 667 vertices>,\n",
       " <Label | fsaverage, 'L_STSvp_ROI-lh', lh : 1031 vertices>,\n",
       " <Label | fsaverage, 'L_STV_ROI-lh', lh : 680 vertices>,\n",
       " <Label | fsaverage, 'L_TA2_ROI-lh', lh : 357 vertices>,\n",
       " <Label | fsaverage, 'L_TE1a_ROI-lh', lh : 756 vertices>,\n",
       " <Label | fsaverage, 'L_TE1m_ROI-lh', lh : 663 vertices>,\n",
       " <Label | fsaverage, 'L_TE1p_ROI-lh', lh : 1173 vertices>,\n",
       " <Label | fsaverage, 'L_TE2a_ROI-lh', lh : 1211 vertices>,\n",
       " <Label | fsaverage, 'L_TE2p_ROI-lh', lh : 806 vertices>,\n",
       " <Label | fsaverage, 'L_TF_ROI-lh', lh : 1348 vertices>,\n",
       " <Label | fsaverage, 'L_TGd_ROI-lh', lh : 1796 vertices>,\n",
       " <Label | fsaverage, 'L_TGv_ROI-lh', lh : 661 vertices>,\n",
       " <Label | fsaverage, 'L_TPOJ1_ROI-lh', lh : 856 vertices>,\n",
       " <Label | fsaverage, 'L_TPOJ2_ROI-lh', lh : 597 vertices>,\n",
       " <Label | fsaverage, 'L_TPOJ3_ROI-lh', lh : 400 vertices>,\n",
       " <Label | fsaverage, 'L_V1_ROI-lh', lh : 4181 vertices>,\n",
       " <Label | fsaverage, 'L_V2_ROI-lh', lh : 3052 vertices>,\n",
       " <Label | fsaverage, 'L_V3A_ROI-lh', lh : 648 vertices>,\n",
       " <Label | fsaverage, 'L_V3B_ROI-lh', lh : 357 vertices>,\n",
       " <Label | fsaverage, 'L_V3CD_ROI-lh', lh : 376 vertices>,\n",
       " <Label | fsaverage, 'L_V3_ROI-lh', lh : 1920 vertices>,\n",
       " <Label | fsaverage, 'L_V4_ROI-lh', lh : 1561 vertices>,\n",
       " <Label | fsaverage, 'L_V4t_ROI-lh', lh : 248 vertices>,\n",
       " <Label | fsaverage, 'L_V6A_ROI-lh', lh : 252 vertices>,\n",
       " <Label | fsaverage, 'L_V6_ROI-lh', lh : 509 vertices>,\n",
       " <Label | fsaverage, 'L_V7_ROI-lh', lh : 274 vertices>,\n",
       " <Label | fsaverage, 'L_V8_ROI-lh', lh : 297 vertices>,\n",
       " <Label | fsaverage, 'L_VIP_ROI-lh', lh : 699 vertices>,\n",
       " <Label | fsaverage, 'L_VMV1_ROI-lh', lh : 437 vertices>,\n",
       " <Label | fsaverage, 'L_VMV2_ROI-lh', lh : 347 vertices>,\n",
       " <Label | fsaverage, 'L_VMV3_ROI-lh', lh : 310 vertices>,\n",
       " <Label | fsaverage, 'L_VVC_ROI-lh', lh : 632 vertices>,\n",
       " <Label | fsaverage, 'L_a10p_ROI-lh', lh : 476 vertices>,\n",
       " <Label | fsaverage, 'L_a24_ROI-lh', lh : 445 vertices>,\n",
       " <Label | fsaverage, 'L_a24pr_ROI-lh', lh : 387 vertices>,\n",
       " <Label | fsaverage, 'L_a32pr_ROI-lh', lh : 527 vertices>,\n",
       " <Label | fsaverage, 'L_a47r_ROI-lh', lh : 915 vertices>,\n",
       " <Label | fsaverage, 'L_a9-46v_ROI-lh', lh : 727 vertices>,\n",
       " <Label | fsaverage, 'L_d23ab_ROI-lh', lh : 477 vertices>,\n",
       " <Label | fsaverage, 'L_d32_ROI-lh', lh : 552 vertices>,\n",
       " <Label | fsaverage, 'L_i6-8_ROI-lh', lh : 549 vertices>,\n",
       " <Label | fsaverage, 'L_p10p_ROI-lh', lh : 549 vertices>,\n",
       " <Label | fsaverage, 'L_p24_ROI-lh', lh : 317 vertices>,\n",
       " <Label | fsaverage, 'L_p24pr_ROI-lh', lh : 452 vertices>,\n",
       " <Label | fsaverage, 'L_p32_ROI-lh', lh : 442 vertices>,\n",
       " <Label | fsaverage, 'L_p32pr_ROI-lh', lh : 732 vertices>,\n",
       " <Label | fsaverage, 'L_p47r_ROI-lh', lh : 599 vertices>,\n",
       " <Label | fsaverage, 'L_p9-46v_ROI-lh', lh : 794 vertices>,\n",
       " <Label | fsaverage, 'L_pOFC_ROI-lh', lh : 547 vertices>,\n",
       " <Label | fsaverage, 'L_s32_ROI-lh', lh : 280 vertices>,\n",
       " <Label | fsaverage, 'L_s6-8_ROI-lh', lh : 307 vertices>,\n",
       " <Label | fsaverage, 'L_v23ab_ROI-lh', lh : 372 vertices>,\n",
       " <Label | fsaverage, 'R_10d_ROI-rh', rh : 524 vertices>,\n",
       " <Label | fsaverage, 'R_10pp_ROI-rh', rh : 658 vertices>,\n",
       " <Label | fsaverage, 'R_10r_ROI-rh', rh : 435 vertices>,\n",
       " <Label | fsaverage, 'R_10v_ROI-rh', rh : 651 vertices>,\n",
       " <Label | fsaverage, 'R_11l_ROI-rh', rh : 922 vertices>,\n",
       " <Label | fsaverage, 'R_13l_ROI-rh', rh : 532 vertices>,\n",
       " <Label | fsaverage, 'R_1_ROI-rh', rh : 2045 vertices>,\n",
       " <Label | fsaverage, 'R_23c_ROI-rh', rh : 1325 vertices>,\n",
       " <Label | fsaverage, 'R_23d_ROI-rh', rh : 513 vertices>,\n",
       " <Label | fsaverage, 'R_24dd_ROI-rh', rh : 990 vertices>,\n",
       " <Label | fsaverage, 'R_24dv_ROI-rh', rh : 752 vertices>,\n",
       " <Label | fsaverage, 'R_25_ROI-rh', rh : 294 vertices>,\n",
       " <Label | fsaverage, 'R_2_ROI-rh', rh : 2913 vertices>,\n",
       " <Label | fsaverage, 'R_31a_ROI-rh', rh : 367 vertices>,\n",
       " <Label | fsaverage, 'R_31pd_ROI-rh', rh : 502 vertices>,\n",
       " <Label | fsaverage, 'R_31pv_ROI-rh', rh : 572 vertices>,\n",
       " <Label | fsaverage, 'R_33pr_ROI-rh', rh : 422 vertices>,\n",
       " <Label | fsaverage, 'R_3a_ROI-rh', rh : 1770 vertices>,\n",
       " <Label | fsaverage, 'R_3b_ROI-rh', rh : 2552 vertices>,\n",
       " <Label | fsaverage, 'R_43_ROI-rh', rh : 748 vertices>,\n",
       " <Label | fsaverage, 'R_44_ROI-rh', rh : 695 vertices>,\n",
       " <Label | fsaverage, 'R_45_ROI-rh', rh : 628 vertices>,\n",
       " <Label | fsaverage, 'R_46_ROI-rh', rh : 1245 vertices>,\n",
       " <Label | fsaverage, 'R_47l_ROI-rh', rh : 502 vertices>,\n",
       " <Label | fsaverage, 'R_47m_ROI-rh', rh : 294 vertices>,\n",
       " <Label | fsaverage, 'R_47s_ROI-rh', rh : 666 vertices>,\n",
       " <Label | fsaverage, 'R_4_ROI-rh', rh : 3855 vertices>,\n",
       " <Label | fsaverage, 'R_52_ROI-rh', rh : 386 vertices>,\n",
       " <Label | fsaverage, 'R_55b_ROI-rh', rh : 421 vertices>,\n",
       " <Label | fsaverage, 'R_5L_ROI-rh', rh : 904 vertices>,\n",
       " <Label | fsaverage, 'R_5m_ROI-rh', rh : 805 vertices>,\n",
       " <Label | fsaverage, 'R_5mv_ROI-rh', rh : 1243 vertices>,\n",
       " <Label | fsaverage, 'R_6a_ROI-rh', rh : 1715 vertices>,\n",
       " <Label | fsaverage, 'R_6d_ROI-rh', rh : 876 vertices>,\n",
       " <Label | fsaverage, 'R_6ma_ROI-rh', rh : 1217 vertices>,\n",
       " <Label | fsaverage, 'R_6mp_ROI-rh', rh : 1454 vertices>,\n",
       " <Label | fsaverage, 'R_6r_ROI-rh', rh : 1287 vertices>,\n",
       " <Label | fsaverage, 'R_6v_ROI-rh', rh : 709 vertices>,\n",
       " <Label | fsaverage, 'R_7AL_ROI-rh', rh : 910 vertices>,\n",
       " <Label | fsaverage, 'R_7Am_ROI-rh', rh : 1061 vertices>,\n",
       " <Label | fsaverage, 'R_7PC_ROI-rh', rh : 1010 vertices>,\n",
       " <Label | fsaverage, 'R_7PL_ROI-rh', rh : 429 vertices>,\n",
       " <Label | fsaverage, 'R_7Pm_ROI-rh', rh : 511 vertices>,\n",
       " <Label | fsaverage, 'R_7m_ROI-rh', rh : 779 vertices>,\n",
       " <Label | fsaverage, 'R_8Ad_ROI-rh', rh : 962 vertices>,\n",
       " <Label | fsaverage, 'R_8Av_ROI-rh', rh : 1007 vertices>,\n",
       " <Label | fsaverage, 'R_8BL_ROI-rh', rh : 974 vertices>,\n",
       " <Label | fsaverage, 'R_8BM_ROI-rh', rh : 973 vertices>,\n",
       " <Label | fsaverage, 'R_8C_ROI-rh', rh : 1083 vertices>,\n",
       " <Label | fsaverage, 'R_9-46d_ROI-rh', rh : 1382 vertices>,\n",
       " <Label | fsaverage, 'R_9a_ROI-rh', rh : 637 vertices>,\n",
       " <Label | fsaverage, 'R_9m_ROI-rh', rh : 1401 vertices>,\n",
       " <Label | fsaverage, 'R_9p_ROI-rh', rh : 679 vertices>,\n",
       " <Label | fsaverage, 'R_A1_ROI-rh', rh : 301 vertices>,\n",
       " <Label | fsaverage, 'R_A4_ROI-rh', rh : 855 vertices>,\n",
       " <Label | fsaverage, 'R_A5_ROI-rh', rh : 978 vertices>,\n",
       " <Label | fsaverage, 'R_AAIC_ROI-rh', rh : 554 vertices>,\n",
       " <Label | fsaverage, 'R_AIP_ROI-rh', rh : 1710 vertices>,\n",
       " <Label | fsaverage, 'R_AVI_ROI-rh', rh : 742 vertices>,\n",
       " <Label | fsaverage, 'R_DVT_ROI-rh', rh : 745 vertices>,\n",
       " <Label | fsaverage, 'R_EC_ROI-rh', rh : 456 vertices>,\n",
       " <Label | fsaverage, 'R_FEF_ROI-rh', rh : 850 vertices>,\n",
       " <Label | fsaverage, 'R_FFC_ROI-rh', rh : 890 vertices>,\n",
       " <Label | fsaverage, 'R_FOP1_ROI-rh', rh : 325 vertices>,\n",
       " <Label | fsaverage, 'R_FOP2_ROI-rh', rh : 436 vertices>,\n",
       " <Label | fsaverage, 'R_FOP3_ROI-rh', rh : 450 vertices>,\n",
       " <Label | fsaverage, 'R_FOP4_ROI-rh', rh : 731 vertices>,\n",
       " <Label | fsaverage, 'R_FOP5_ROI-rh', rh : 733 vertices>,\n",
       " <Label | fsaverage, 'R_FST_ROI-rh', rh : 401 vertices>,\n",
       " <Label | fsaverage, 'R_H_ROI-rh', rh : 897 vertices>,\n",
       " <Label | fsaverage, 'R_IFJa_ROI-rh', rh : 462 vertices>,\n",
       " <Label | fsaverage, 'R_IFJp_ROI-rh', rh : 361 vertices>,\n",
       " <Label | fsaverage, 'R_IFSa_ROI-rh', rh : 752 vertices>,\n",
       " <Label | fsaverage, 'R_IFSp_ROI-rh', rh : 684 vertices>,\n",
       " <Label | fsaverage, 'R_IP0_ROI-rh', rh : 547 vertices>,\n",
       " <Label | fsaverage, 'R_IP1_ROI-rh', rh : 1019 vertices>,\n",
       " <Label | fsaverage, 'R_IP2_ROI-rh', rh : 982 vertices>,\n",
       " <Label | fsaverage, 'R_IPS1_ROI-rh', rh : 546 vertices>,\n",
       " <Label | fsaverage, 'R_Ig_ROI-rh', rh : 489 vertices>,\n",
       " <Label | fsaverage, 'R_LBelt_ROI-rh', rh : 457 vertices>,\n",
       " <Label | fsaverage, 'R_LIPd_ROI-rh', rh : 493 vertices>,\n",
       " <Label | fsaverage, 'R_LIPv_ROI-rh', rh : 661 vertices>,\n",
       " <Label | fsaverage, 'R_LO1_ROI-rh', rh : 268 vertices>,\n",
       " <Label | fsaverage, 'R_LO2_ROI-rh', rh : 220 vertices>,\n",
       " <Label | fsaverage, 'R_LO3_ROI-rh', rh : 347 vertices>,\n",
       " <Label | fsaverage, 'R_MBelt_ROI-rh', rh : 454 vertices>,\n",
       " <Label | fsaverage, 'R_MIP_ROI-rh', rh : 815 vertices>,\n",
       " <Label | fsaverage, 'R_MI_ROI-rh', rh : 564 vertices>,\n",
       " <Label | fsaverage, 'R_MST_ROI-rh', rh : 385 vertices>,\n",
       " <Label | fsaverage, 'R_MT_ROI-rh', rh : 303 vertices>,\n",
       " <Label | fsaverage, 'R_OFC_ROI-rh', rh : 1345 vertices>,\n",
       " <Label | fsaverage, 'R_OP1_ROI-rh', rh : 468 vertices>,\n",
       " <Label | fsaverage, 'R_OP2-3_ROI-rh', rh : 568 vertices>,\n",
       " <Label | fsaverage, 'R_OP4_ROI-rh', rh : 1096 vertices>,\n",
       " <Label | fsaverage, 'R_PBelt_ROI-rh', rh : 499 vertices>,\n",
       " <Label | fsaverage, 'R_PCV_ROI-rh', rh : 835 vertices>,\n",
       " <Label | fsaverage, 'R_PEF_ROI-rh', rh : 480 vertices>,\n",
       " <Label | fsaverage, 'R_PF_ROI-rh', rh : 1681 vertices>,\n",
       " <Label | fsaverage, 'R_PFcm_ROI-rh', rh : 708 vertices>,\n",
       " <Label | fsaverage, 'R_PFm_ROI-rh', rh : 2349 vertices>,\n",
       " <Label | fsaverage, 'R_PFop_ROI-rh', rh : 735 vertices>,\n",
       " <Label | fsaverage, 'R_PFt_ROI-rh', rh : 1083 vertices>,\n",
       " <Label | fsaverage, 'R_PGi_ROI-rh', rh : 1982 vertices>,\n",
       " <Label | fsaverage, 'R_PGp_ROI-rh', rh : 846 vertices>,\n",
       " <Label | fsaverage, 'R_PGs_ROI-rh', rh : 1245 vertices>,\n",
       " <Label | fsaverage, 'R_PHA1_ROI-rh', rh : 496 vertices>,\n",
       " <Label | fsaverage, 'R_PHA2_ROI-rh', rh : 386 vertices>,\n",
       " <Label | fsaverage, 'R_PHA3_ROI-rh', rh : 474 vertices>,\n",
       " <Label | fsaverage, 'R_PHT_ROI-rh', rh : 759 vertices>,\n",
       " <Label | fsaverage, 'R_PH_ROI-rh', rh : 720 vertices>,\n",
       " <Label | fsaverage, 'R_PIT_ROI-rh', rh : 364 vertices>,\n",
       " <Label | fsaverage, 'R_PI_ROI-rh', rh : 632 vertices>,\n",
       " <Label | fsaverage, 'R_POS1_ROI-rh', rh : 968 vertices>,\n",
       " <Label | fsaverage, 'R_POS2_ROI-rh', rh : 1308 vertices>,\n",
       " <Label | fsaverage, 'R_PSL_ROI-rh', rh : 877 vertices>,\n",
       " <Label | fsaverage, 'R_PeEc_ROI-rh', rh : 1012 vertices>,\n",
       " <Label | fsaverage, 'R_Pir_ROI-rh', rh : 904 vertices>,\n",
       " <Label | fsaverage, 'R_PoI1_ROI-rh', rh : 867 vertices>,\n",
       " <Label | fsaverage, 'R_PoI2_ROI-rh', rh : 817 vertices>,\n",
       " <Label | fsaverage, 'R_PreS_ROI-rh', rh : 677 vertices>,\n",
       " <Label | fsaverage, 'R_ProS_ROI-rh', rh : 633 vertices>,\n",
       " <Label | fsaverage, 'R_RI_ROI-rh', rh : 847 vertices>,\n",
       " <Label | fsaverage, 'R_RSC_ROI-rh', rh : 1050 vertices>,\n",
       " <Label | fsaverage, 'R_SCEF_ROI-rh', rh : 875 vertices>,\n",
       " <Label | fsaverage, 'R_SFL_ROI-rh', rh : 611 vertices>,\n",
       " <Label | fsaverage, 'R_STGa_ROI-rh', rh : 368 vertices>,\n",
       " <Label | fsaverage, 'R_STSda_ROI-rh', rh : 760 vertices>,\n",
       " <Label | fsaverage, 'R_STSdp_ROI-rh', rh : 1183 vertices>,\n",
       " <Label | fsaverage, 'R_STSva_ROI-rh', rh : 580 vertices>,\n",
       " <Label | fsaverage, 'R_STSvp_ROI-rh', rh : 754 vertices>,\n",
       " <Label | fsaverage, 'R_STV_ROI-rh', rh : 894 vertices>,\n",
       " <Label | fsaverage, 'R_TA2_ROI-rh', rh : 483 vertices>,\n",
       " <Label | fsaverage, 'R_TE1a_ROI-rh', rh : 633 vertices>,\n",
       " <Label | fsaverage, 'R_TE1m_ROI-rh', rh : 639 vertices>,\n",
       " <Label | fsaverage, 'R_TE1p_ROI-rh', rh : 1157 vertices>,\n",
       " <Label | fsaverage, 'R_TE2a_ROI-rh', rh : 1334 vertices>,\n",
       " <Label | fsaverage, 'R_TE2p_ROI-rh', rh : 862 vertices>,\n",
       " <Label | fsaverage, 'R_TF_ROI-rh', rh : 1370 vertices>,\n",
       " <Label | fsaverage, 'R_TGd_ROI-rh', rh : 1806 vertices>,\n",
       " <Label | fsaverage, 'R_TGv_ROI-rh', rh : 716 vertices>,\n",
       " <Label | fsaverage, 'R_TPOJ1_ROI-rh', rh : 1639 vertices>,\n",
       " <Label | fsaverage, 'R_TPOJ2_ROI-rh', rh : 827 vertices>,\n",
       " <Label | fsaverage, 'R_TPOJ3_ROI-rh', rh : 532 vertices>,\n",
       " <Label | fsaverage, 'R_V1_ROI-rh', rh : 4178 vertices>,\n",
       " <Label | fsaverage, 'R_V2_ROI-rh', rh : 2991 vertices>,\n",
       " <Label | fsaverage, 'R_V3A_ROI-rh', rh : 755 vertices>,\n",
       " <Label | fsaverage, 'R_V3B_ROI-rh', rh : 377 vertices>,\n",
       " <Label | fsaverage, 'R_V3CD_ROI-rh', rh : 392 vertices>,\n",
       " <Label | fsaverage, 'R_V3_ROI-rh', rh : 1989 vertices>,\n",
       " <Label | fsaverage, 'R_V4_ROI-rh', rh : 1297 vertices>,\n",
       " <Label | fsaverage, 'R_V4t_ROI-rh', rh : 207 vertices>,\n",
       " <Label | fsaverage, 'R_V6A_ROI-rh', rh : 242 vertices>,\n",
       " <Label | fsaverage, 'R_V6_ROI-rh', rh : 568 vertices>,\n",
       " <Label | fsaverage, 'R_V7_ROI-rh', rh : 286 vertices>,\n",
       " <Label | fsaverage, 'R_V8_ROI-rh', rh : 356 vertices>,\n",
       " <Label | fsaverage, 'R_VIP_ROI-rh', rh : 525 vertices>,\n",
       " <Label | fsaverage, 'R_VMV1_ROI-rh', rh : 440 vertices>,\n",
       " <Label | fsaverage, 'R_VMV2_ROI-rh', rh : 340 vertices>,\n",
       " <Label | fsaverage, 'R_VMV3_ROI-rh', rh : 352 vertices>,\n",
       " <Label | fsaverage, 'R_VVC_ROI-rh', rh : 609 vertices>,\n",
       " <Label | fsaverage, 'R_a10p_ROI-rh', rh : 463 vertices>,\n",
       " <Label | fsaverage, 'R_a24_ROI-rh', rh : 410 vertices>,\n",
       " <Label | fsaverage, 'R_a24pr_ROI-rh', rh : 361 vertices>,\n",
       " <Label | fsaverage, 'R_a32pr_ROI-rh', rh : 602 vertices>,\n",
       " <Label | fsaverage, 'R_a47r_ROI-rh', rh : 904 vertices>,\n",
       " <Label | fsaverage, 'R_a9-46v_ROI-rh', rh : 540 vertices>,\n",
       " <Label | fsaverage, 'R_d23ab_ROI-rh', rh : 293 vertices>,\n",
       " <Label | fsaverage, 'R_d32_ROI-rh', rh : 702 vertices>,\n",
       " <Label | fsaverage, 'R_i6-8_ROI-rh', rh : 528 vertices>,\n",
       " <Label | fsaverage, 'R_p10p_ROI-rh', rh : 640 vertices>,\n",
       " <Label | fsaverage, 'R_p24_ROI-rh', rh : 366 vertices>,\n",
       " <Label | fsaverage, 'R_p24pr_ROI-rh', rh : 556 vertices>,\n",
       " <Label | fsaverage, 'R_p32_ROI-rh', rh : 453 vertices>,\n",
       " <Label | fsaverage, 'R_p32pr_ROI-rh', rh : 783 vertices>,\n",
       " <Label | fsaverage, 'R_p47r_ROI-rh', rh : 533 vertices>,\n",
       " <Label | fsaverage, 'R_p9-46v_ROI-rh', rh : 1011 vertices>,\n",
       " <Label | fsaverage, 'R_pOFC_ROI-rh', rh : 824 vertices>,\n",
       " <Label | fsaverage, 'R_s32_ROI-rh', rh : 327 vertices>,\n",
       " <Label | fsaverage, 'R_s6-8_ROI-rh', rh : 504 vertices>,\n",
       " <Label | fsaverage, 'R_v23ab_ROI-rh', rh : 414 vertices>]"
      ]
     },
     "execution_count": 26,
     "metadata": {},
     "output_type": "execute_result"
    }
   ],
   "source": [
    "labels"
   ]
  },
  {
   "cell_type": "code",
   "execution_count": 31,
   "metadata": {},
   "outputs": [],
   "source": [
    "index_df = [i + \"_lh\" for i in df_x.index] + [i + \"_rh\" for i in df_x.index]\n",
    "sphere_mmp = pd.DataFrame(columns=[\"x\", \"y\", \"z\"], index=index_df)\n",
    "for label in labels[2:]:\n",
    "    parcel_name = label.name[2:-7] + \"_\" + label.hemi\n",
    "    sphere_mmp.loc[parcel_name] = label.pos.mean(axis=0) * 1000  # mm\n",
    "sphere_mmp = sphere_mmp.astype(float)"
   ]
  },
  {
   "cell_type": "code",
   "execution_count": 257,
   "metadata": {},
   "outputs": [
    {
     "data": {
      "text/html": [
       "<div>\n",
       "<style scoped>\n",
       "    .dataframe tbody tr th:only-of-type {\n",
       "        vertical-align: middle;\n",
       "    }\n",
       "\n",
       "    .dataframe tbody tr th {\n",
       "        vertical-align: top;\n",
       "    }\n",
       "\n",
       "    .dataframe thead th {\n",
       "        text-align: right;\n",
       "    }\n",
       "</style>\n",
       "<table border=\"1\" class=\"dataframe\">\n",
       "  <thead>\n",
       "    <tr style=\"text-align: right;\">\n",
       "      <th></th>\n",
       "      <th>x</th>\n",
       "      <th>y</th>\n",
       "      <th>z</th>\n",
       "    </tr>\n",
       "  </thead>\n",
       "  <tbody>\n",
       "    <tr>\n",
       "      <th>V1_lh</th>\n",
       "      <td>36.903210</td>\n",
       "      <td>-69.672657</td>\n",
       "      <td>-55.425578</td>\n",
       "    </tr>\n",
       "    <tr>\n",
       "      <th>MST_lh</th>\n",
       "      <td>-55.942361</td>\n",
       "      <td>-70.713167</td>\n",
       "      <td>-42.323695</td>\n",
       "    </tr>\n",
       "    <tr>\n",
       "      <th>V6_lh</th>\n",
       "      <td>48.466582</td>\n",
       "      <td>-85.774597</td>\n",
       "      <td>-12.411513</td>\n",
       "    </tr>\n",
       "    <tr>\n",
       "      <th>V2_lh</th>\n",
       "      <td>30.264767</td>\n",
       "      <td>-70.008611</td>\n",
       "      <td>-53.233070</td>\n",
       "    </tr>\n",
       "    <tr>\n",
       "      <th>V3_lh</th>\n",
       "      <td>11.935245</td>\n",
       "      <td>-76.895974</td>\n",
       "      <td>-49.698245</td>\n",
       "    </tr>\n",
       "    <tr>\n",
       "      <th>...</th>\n",
       "      <td>...</td>\n",
       "      <td>...</td>\n",
       "      <td>...</td>\n",
       "    </tr>\n",
       "    <tr>\n",
       "      <th>STSva_rh</th>\n",
       "      <td>55.985172</td>\n",
       "      <td>-0.590655</td>\n",
       "      <td>-82.054241</td>\n",
       "    </tr>\n",
       "    <tr>\n",
       "      <th>TE1m_rh</th>\n",
       "      <td>40.742973</td>\n",
       "      <td>-20.232973</td>\n",
       "      <td>-88.505900</td>\n",
       "    </tr>\n",
       "    <tr>\n",
       "      <th>PI_rh</th>\n",
       "      <td>57.779810</td>\n",
       "      <td>47.675649</td>\n",
       "      <td>-65.014161</td>\n",
       "    </tr>\n",
       "    <tr>\n",
       "      <th>a32pr_rh</th>\n",
       "      <td>-68.230166</td>\n",
       "      <td>57.599668</td>\n",
       "      <td>43.609701</td>\n",
       "    </tr>\n",
       "    <tr>\n",
       "      <th>p24_rh</th>\n",
       "      <td>-69.769426</td>\n",
       "      <td>67.723661</td>\n",
       "      <td>21.852459</td>\n",
       "    </tr>\n",
       "  </tbody>\n",
       "</table>\n",
       "<p>360 rows × 3 columns</p>\n",
       "</div>"
      ],
      "text/plain": [
       "                  x          y          z\n",
       "V1_lh     36.903210 -69.672657 -55.425578\n",
       "MST_lh   -55.942361 -70.713167 -42.323695\n",
       "V6_lh     48.466582 -85.774597 -12.411513\n",
       "V2_lh     30.264767 -70.008611 -53.233070\n",
       "V3_lh     11.935245 -76.895974 -49.698245\n",
       "...             ...        ...        ...\n",
       "STSva_rh  55.985172  -0.590655 -82.054241\n",
       "TE1m_rh   40.742973 -20.232973 -88.505900\n",
       "PI_rh     57.779810  47.675649 -65.014161\n",
       "a32pr_rh -68.230166  57.599668  43.609701\n",
       "p24_rh   -69.769426  67.723661  21.852459\n",
       "\n",
       "[360 rows x 3 columns]"
      ]
     },
     "execution_count": 257,
     "metadata": {},
     "output_type": "execute_result"
    }
   ],
   "source": [
    "sphere_mmp"
   ]
  },
  {
   "cell_type": "code",
   "execution_count": 258,
   "metadata": {},
   "outputs": [],
   "source": [
    "sphere_mmp.to_csv(\"F:\\iEEG_neural_dynamics\\MNIOpen\\mmp_centroids_coords.csv\")"
   ]
  },
  {
   "cell_type": "markdown",
   "metadata": {},
   "source": [
    "### Method \"vasa\""
   ]
  },
  {
   "cell_type": "markdown",
   "metadata": {},
   "source": [
    "Generate null maps for x:"
   ]
  },
  {
   "cell_type": "code",
   "execution_count": 55,
   "metadata": {},
   "outputs": [],
   "source": [
    "nspins = 10000\n",
    "hemiid = np.array([0] * len(df_x.index) + [1] * len(df_x.index))\n",
    "spins = uti.gen_spinsamples(sphere_mmp, hemiid, nspins, method=\"vasa\")"
   ]
  },
  {
   "cell_type": "code",
   "execution_count": 56,
   "metadata": {},
   "outputs": [
    {
     "data": {
      "text/plain": [
       "(360, 10000)"
      ]
     },
     "execution_count": 56,
     "metadata": {},
     "output_type": "execute_result"
    }
   ],
   "source": [
    "spins.shape"
   ]
  },
  {
   "cell_type": "code",
   "execution_count": 57,
   "metadata": {},
   "outputs": [],
   "source": [
    "df_xx = pd.concat([df_x, df_x])\n",
    "df_yy = pd.concat([df_y, df_y])"
   ]
  },
  {
   "cell_type": "code",
   "execution_count": 58,
   "metadata": {},
   "outputs": [
    {
     "name": "stderr",
     "output_type": "stream",
     "text": [
      "C:\\Users\\ricca\\AppData\\Local\\Temp\\ipykernel_19020\\455341480.py:7: FutureWarning: Series.__getitem__ treating keys as positions is deprecated. In a future version, integer keys will always be treated as labels (consistent with DataFrame behavior). To access a value by position, use `ser.iloc[pos]`\n",
      "  permuted_xy[spin] = spearmanr(df_xx[spins[:, spin]], df_yy)[0]\n",
      "C:\\Users\\ricca\\AppData\\Local\\Temp\\ipykernel_19020\\455341480.py:8: FutureWarning: Series.__getitem__ treating keys as positions is deprecated. In a future version, integer keys will always be treated as labels (consistent with DataFrame behavior). To access a value by position, use `ser.iloc[pos]`\n",
      "  permuted_yx[spin] = spearmanr(df_yy[spins[:, spin]], df_xx)[0]\n"
     ]
    }
   ],
   "source": [
    "corrtype = \"spearman\"\n",
    "corrval = spearmanr(df_x, df_y)[0]\n",
    "permuted_xy = np.zeros(nspins)\n",
    "permuted_yx = np.zeros(nspins)\n",
    "for spin in range(nspins):\n",
    "    if corrtype == \"spearman\":\n",
    "        permuted_xy[spin] = spearmanr(df_xx[spins[:, spin]], df_yy)[0]\n",
    "        permuted_yx[spin] = spearmanr(df_yy[spins[:, spin]], df_xx)[0]\n",
    "    elif corrtype == \"pearson\":\n",
    "        permuted_xy[spin] = pearsonr(df_xx[spins[:, spin]], df_yy)[0]\n",
    "        permuted_yx[spin] = pearsonr(df_yy[spins[:, spin]], df_xx)[0]"
   ]
  },
  {
   "cell_type": "code",
   "execution_count": 59,
   "metadata": {},
   "outputs": [
    {
     "data": {
      "image/png": "[encoded data removed]",
      "text/plain": [
       "<Figure size 600x600 with 1 Axes>"
      ]
     },
     "metadata": {},
     "output_type": "display_data"
    }
   ],
   "source": [
    "import matplotlib.pyplot as plt\n",
    "\n",
    "plt.figure(figsize=(6, 6))\n",
    "plt.hist(permuted_xy, alpha=0.5, label=\"permuted_xy\")\n",
    "plt.hist(permuted_yx, alpha=0.5, label=\"permuted_yx\")\n",
    "plt.axvline(corrval, color=\"red\", label=\"corrval\")\n",
    "plt.show()"
   ]
  },
  {
   "cell_type": "markdown",
   "metadata": {},
   "source": [
    "Approach of Vasa to calculate the p-value:\n",
    "- average of the two null maps (obtained by permuting x or y)\n",
    "- it is one-sided -> not good , keep it two-sided"
   ]
  },
  {
   "cell_type": "code",
   "execution_count": 60,
   "metadata": {},
   "outputs": [
    {
     "data": {
      "text/plain": [
       "0.0344"
      ]
     },
     "execution_count": 60,
     "metadata": {},
     "output_type": "execute_result"
    }
   ],
   "source": [
    "if corrval > 0:\n",
    "    p_xy = (permuted_xy > corrval).mean()\n",
    "    p_yx = (permuted_yx > corrval).mean()\n",
    "else:\n",
    "    p_xy = (permuted_xy < corrval).mean()\n",
    "    p_yx = (permuted_yx < corrval).mean()\n",
    "p_corr = (p_xy + p_yx) / 2\n",
    "p_corr"
   ]
  },
  {
   "cell_type": "markdown",
   "metadata": {},
   "source": [
    "Approach in Shaifei et al. (2023)"
   ]
  },
  {
   "cell_type": "code",
   "execution_count": 62,
   "metadata": {},
   "outputs": [
    {
     "data": {
      "text/plain": [
       "0.050994900509949"
      ]
     },
     "execution_count": 62,
     "metadata": {},
     "output_type": "execute_result"
    }
   ],
   "source": [
    "permmean = np.mean(permuted_xy)\n",
    "pvalspin = (\n",
    "    len(np.where(abs(permuted_xy - permmean) >= abs(corrval - permmean))[0]) + 1\n",
    ") / (nspins + 1)\n",
    "pvalspin"
   ]
  },
  {
   "cell_type": "markdown",
   "metadata": {},
   "source": [
    "\"Normal\" approach (just take values smaller than the null maps):"
   ]
  },
  {
   "cell_type": "code",
   "execution_count": 61,
   "metadata": {},
   "outputs": [
    {
     "data": {
      "text/plain": [
       "0.0494"
      ]
     },
     "execution_count": 61,
     "metadata": {},
     "output_type": "execute_result"
    }
   ],
   "source": [
    "(abs(permuted_xy - permmean) > abs(corrval - permmean)).mean()"
   ]
  },
  {
   "cell_type": "markdown",
   "metadata": {},
   "source": [
    "### Method \"original\" (Alexander-Bloch et al.)"
   ]
  },
  {
   "cell_type": "markdown",
   "metadata": {},
   "source": [
    "Generate null maps for x:"
   ]
  },
  {
   "cell_type": "code",
   "execution_count": 63,
   "metadata": {},
   "outputs": [],
   "source": [
    "nspins = 10000\n",
    "hemiid = np.array([0] * len(df_x.index) + [1] * len(df_x.index))\n",
    "spins = uti.gen_spinsamples(sphere_mmp, hemiid, nspins, method=\"original\")"
   ]
  },
  {
   "cell_type": "code",
   "execution_count": 64,
   "metadata": {},
   "outputs": [],
   "source": [
    "df_xx = pd.concat([df_x, df_x])\n",
    "df_yy = pd.concat([df_y, df_y])"
   ]
  },
  {
   "cell_type": "code",
   "execution_count": 66,
   "metadata": {},
   "outputs": [
    {
     "name": "stderr",
     "output_type": "stream",
     "text": [
      "C:\\Users\\ricca\\AppData\\Local\\Temp\\ipykernel_19020\\499320456.py:6: FutureWarning: Series.__getitem__ treating keys as positions is deprecated. In a future version, integer keys will always be treated as labels (consistent with DataFrame behavior). To access a value by position, use `ser.iloc[pos]`\n",
      "  permuted_p[spin] = spearmanr(df_xx[spins[:, spin]], df_yy)[0]\n"
     ]
    }
   ],
   "source": [
    "corrtype = \"spearman\"\n",
    "corrval = spearmanr(df_x, df_y)[0]\n",
    "permuted_p = np.zeros(nspins)\n",
    "for spin in range(nspins):\n",
    "    if corrtype == \"spearman\":\n",
    "        permuted_p[spin] = spearmanr(df_xx[spins[:, spin]], df_yy)[0]\n",
    "    elif corrtype == \"pearson\":\n",
    "        permuted_p[spin] = pearsonr(df_xx[spins[:, spin]], df_yy)[0]"
   ]
  },
  {
   "cell_type": "code",
   "execution_count": 68,
   "metadata": {},
   "outputs": [
    {
     "data": {
      "image/png": "[encoded data removed]",
      "text/plain": [
       "<Figure size 600x600 with 1 Axes>"
      ]
     },
     "metadata": {},
     "output_type": "display_data"
    }
   ],
   "source": [
    "import matplotlib.pyplot as plt\n",
    "\n",
    "plt.figure(figsize=(6, 6))\n",
    "plt.hist(permuted_p, alpha=0.5, label=\"permuted\")\n",
    "plt.axvline(corrval, color=\"red\", label=\"corrval\")\n",
    "plt.show()"
   ]
  },
  {
   "cell_type": "markdown",
   "metadata": {},
   "source": [
    "\"Normal\" approach (just take values smaller than the null maps):"
   ]
  },
  {
   "cell_type": "code",
   "execution_count": 69,
   "metadata": {},
   "outputs": [
    {
     "data": {
      "text/plain": [
       "0.0743"
      ]
     },
     "execution_count": 69,
     "metadata": {},
     "output_type": "execute_result"
    }
   ],
   "source": [
    "(abs(permuted_xy - permmean) > abs(corrval - permmean)).mean()"
   ]
  },
  {
   "cell_type": "markdown",
   "metadata": {},
   "source": [
    "## Check technique on MNI Atlas"
   ]
  },
  {
   "cell_type": "markdown",
   "metadata": {},
   "source": [
    "First import Destrieux labels and MNI<->Destrieux conversion:"
   ]
  },
  {
   "cell_type": "code",
   "execution_count": 114,
   "metadata": {},
   "outputs": [
    {
     "name": "stdout",
     "output_type": "stream",
     "text": [
      "Reading labels from parcellation...\n",
      "   read 75 labels from C:\\Users\\ricca\\mne_data\\MNE-sample-data\\subjects\\fsaverage\\label\\lh.aparc.a2009s.annot\n",
      "Reading labels from parcellation...\n",
      "   read 75 labels from C:\\Users\\ricca\\mne_data\\MNE-sample-data\\subjects\\fsaverage\\label\\rh.aparc.a2009s.annot\n"
     ]
    }
   ],
   "source": [
    "df_mnia_dest = pd.read_excel(\n",
    "    \"F:\\iEEG_neural_dynamics\\MNIOpen\\mnia_Destrieux_labels.xlsx\", index_col=0\n",
    ")\n",
    "df_mnia_dest[\"Destrieux atlas name\"] = df_mnia_dest[\"Destrieux atlas name\"].str.strip(\"'\")\n",
    "df_mnia_dest.rename(columns={\n",
    "    \"Destrieux atlas name\": \"Destrieux\",\n",
    "    \"MNIA equivalent\": \"MNIA\",\n",
    "}, inplace=True)\n",
    "df_mnia_dest.drop(columns=\"Expanded name\", inplace=True)\n",
    "\n",
    "subjects_dir = str(mne.datasets.sample.data_path()) + \"/subjects\"\n",
    "surface_name = \"aparc.a2009s\"\n",
    "\n",
    "labels_dest_lh = mne.read_labels_from_annot(\n",
    "    \"fsaverage\", surface_name, \"lh\", subjects_dir=subjects_dir, surf_name=\"sphere\"\n",
    ")\n",
    "labels_dest_rh = mne.read_labels_from_annot(\n",
    "    \"fsaverage\", surface_name, \"rh\", subjects_dir=subjects_dir, surf_name=\"sphere\"\n",
    ")\n",
    "labels_dest = {\"lh\": labels_dest_lh, \"rh\": labels_dest_rh}"
   ]
  },
  {
   "cell_type": "code",
   "execution_count": 97,
   "metadata": {},
   "outputs": [
    {
     "data": {
      "text/html": [
       "<div>\n",
       "<style scoped>\n",
       "    .dataframe tbody tr th:only-of-type {\n",
       "        vertical-align: middle;\n",
       "    }\n",
       "\n",
       "    .dataframe tbody tr th {\n",
       "        vertical-align: top;\n",
       "    }\n",
       "\n",
       "    .dataframe thead th {\n",
       "        text-align: right;\n",
       "    }\n",
       "</style>\n",
       "<table border=\"1\" class=\"dataframe\">\n",
       "  <thead>\n",
       "    <tr style=\"text-align: right;\">\n",
       "      <th></th>\n",
       "      <th>Destrieux</th>\n",
       "      <th>MNIA</th>\n",
       "    </tr>\n",
       "  </thead>\n",
       "  <tbody>\n",
       "    <tr>\n",
       "      <th>1.0</th>\n",
       "      <td>G_and_S_frontomargin</td>\n",
       "      <td>Superior frontal gyrus and frontal pole</td>\n",
       "    </tr>\n",
       "    <tr>\n",
       "      <th>2.0</th>\n",
       "      <td>G_and_S_occipital_inf</td>\n",
       "      <td>Inferior ocipital gyrus and occipital pole</td>\n",
       "    </tr>\n",
       "    <tr>\n",
       "      <th>3.0</th>\n",
       "      <td>G_and_S_paracentral</td>\n",
       "      <td>Postcentral gyrus (including medial segment)</td>\n",
       "    </tr>\n",
       "    <tr>\n",
       "      <th>4.0</th>\n",
       "      <td>G_and_S_subcentral</td>\n",
       "      <td>Central operculum</td>\n",
       "    </tr>\n",
       "    <tr>\n",
       "      <th>5.0</th>\n",
       "      <td>G_and_S_transv_frontopol</td>\n",
       "      <td>Superior frontal gyrus and frontal pole</td>\n",
       "    </tr>\n",
       "    <tr>\n",
       "      <th>...</th>\n",
       "      <td>...</td>\n",
       "      <td>...</td>\n",
       "    </tr>\n",
       "    <tr>\n",
       "      <th>NaN</th>\n",
       "      <td>NaN</td>\n",
       "      <td>Hippocampus</td>\n",
       "    </tr>\n",
       "    <tr>\n",
       "      <th>16.0</th>\n",
       "      <td>G_front_sup</td>\n",
       "      <td>Medial segment of precentral gyrus</td>\n",
       "    </tr>\n",
       "    <tr>\n",
       "      <th>16.0</th>\n",
       "      <td>G_front_sup</td>\n",
       "      <td>Medial segment of superior frontal gyrus</td>\n",
       "    </tr>\n",
       "    <tr>\n",
       "      <th>16.0</th>\n",
       "      <td>G_front_sup</td>\n",
       "      <td>Medial frontal cortex</td>\n",
       "    </tr>\n",
       "    <tr>\n",
       "      <th>16.0</th>\n",
       "      <td>G_front_sup</td>\n",
       "      <td>Supplementary motor cortex</td>\n",
       "    </tr>\n",
       "  </tbody>\n",
       "</table>\n",
       "<p>80 rows × 2 columns</p>\n",
       "</div>"
      ],
      "text/plain": [
       "                     Destrieux                                          MNIA\n",
       "1.0       G_and_S_frontomargin       Superior frontal gyrus and frontal pole\n",
       "2.0      G_and_S_occipital_inf    Inferior ocipital gyrus and occipital pole\n",
       "3.0        G_and_S_paracentral  Postcentral gyrus (including medial segment)\n",
       "4.0         G_and_S_subcentral                             Central operculum\n",
       "5.0   G_and_S_transv_frontopol       Superior frontal gyrus and frontal pole\n",
       "...                        ...                                           ...\n",
       "NaN                        NaN                                   Hippocampus\n",
       "16.0               G_front_sup            Medial segment of precentral gyrus\n",
       "16.0               G_front_sup      Medial segment of superior frontal gyrus\n",
       "16.0               G_front_sup                         Medial frontal cortex\n",
       "16.0               G_front_sup                    Supplementary motor cortex\n",
       "\n",
       "[80 rows x 2 columns]"
      ]
     },
     "execution_count": 97,
     "metadata": {},
     "output_type": "execute_result"
    }
   ],
   "source": [
    "df_mnia_dest"
   ]
  },
  {
   "cell_type": "code",
   "execution_count": 102,
   "metadata": {},
   "outputs": [
    {
     "data": {
      "text/plain": [
       "<Label | fsaverage, 'G_Ins_lg_and_S_cent_ins-lh + G_and_S_cingul-Ant-lh', lh : 2940 vertices>"
      ]
     },
     "execution_count": 102,
     "metadata": {},
     "output_type": "execute_result"
    }
   ],
   "source": [
    "labels_dest_lh[0] + labels_dest_lh[1]"
   ]
  },
  {
   "cell_type": "code",
   "execution_count": 103,
   "metadata": {},
   "outputs": [
    {
     "data": {
      "text/html": [
       "<div>\n",
       "<style scoped>\n",
       "    .dataframe tbody tr th:only-of-type {\n",
       "        vertical-align: middle;\n",
       "    }\n",
       "\n",
       "    .dataframe tbody tr th {\n",
       "        vertical-align: top;\n",
       "    }\n",
       "\n",
       "    .dataframe thead th {\n",
       "        text-align: right;\n",
       "    }\n",
       "</style>\n",
       "<table border=\"1\" class=\"dataframe\">\n",
       "  <thead>\n",
       "    <tr style=\"text-align: right;\">\n",
       "      <th></th>\n",
       "      <th>Destrieux</th>\n",
       "      <th>MNIA</th>\n",
       "    </tr>\n",
       "  </thead>\n",
       "  <tbody>\n",
       "    <tr>\n",
       "      <th>17.0</th>\n",
       "      <td>G_Ins_lg_and_S_cent_ins</td>\n",
       "      <td>Posterior insula</td>\n",
       "    </tr>\n",
       "  </tbody>\n",
       "</table>\n",
       "</div>"
      ],
      "text/plain": [
       "                    Destrieux              MNIA\n",
       "17.0  G_Ins_lg_and_S_cent_ins  Posterior insula"
      ]
     },
     "execution_count": 103,
     "metadata": {},
     "output_type": "execute_result"
    }
   ],
   "source": [
    "df_mnia_dest[df_mnia_dest[\"Destrieux\"] == labels_dest_lh[0].name[:-3]]"
   ]
  },
  {
   "cell_type": "markdown",
   "metadata": {},
   "source": [
    "Problem: how to account for Amygdala and Hippocampus?\n",
    "1. assume they are different structures, not related to the cortex, so we don't need to take them into account when generating nulls.\n",
    "2. project them to the cortex --> how??"
   ]
  },
  {
   "cell_type": "markdown",
   "metadata": {},
   "source": [
    "### Approach 1\n",
    "We permute all the cortical parcels extracted from the Destrieux atlas, after merging them together to reflect the MNI atlas. Then, we append the data for hippocampus and amygdala (non permuted) to the permuted data. This approach seems on the conservative side, since we preserve the relation of the two parcels we don't permute with the rest of the cortex."
   ]
  },
  {
   "cell_type": "code",
   "execution_count": 122,
   "metadata": {},
   "outputs": [
    {
     "data": {
      "text/plain": [
       "1.0          Superior frontal gyrus and frontal pole\n",
       "2.0       Inferior ocipital gyrus and occipital pole\n",
       "3.0     Postcentral gyrus (including medial segment)\n",
       "4.0                                Central operculum\n",
       "5.0          Superior frontal gyrus and frontal pole\n",
       "                            ...                     \n",
       "74.0                         Superior temporal gyrus\n",
       "16.0              Medial segment of precentral gyrus\n",
       "16.0        Medial segment of superior frontal gyrus\n",
       "16.0                           Medial frontal cortex\n",
       "16.0                      Supplementary motor cortex\n",
       "Name: MNIA, Length: 78, dtype: object"
      ]
     },
     "execution_count": 122,
     "metadata": {},
     "output_type": "execute_result"
    }
   ],
   "source": [
    "df_mnia_dest.dropna()[\"MNIA\"]"
   ]
  },
  {
   "cell_type": "code",
   "execution_count": 180,
   "metadata": {},
   "outputs": [],
   "source": [
    "coords_mnia = {\"lh\": [], \"rh\": []}\n",
    "for reg in df_mnia_dest.dropna()[\"MNIA\"].unique():\n",
    "    df_mnia_dest_reg = df_mnia_dest[df_mnia_dest[\"MNIA\"] == reg]\n",
    "    labels_destr_reg = df_mnia_dest_reg[\"Destrieux\"].to_list()\n",
    "    for hemi in [\"lh\", \"rh\"]:\n",
    "        labels_reg_hemi = [\n",
    "            label for label in labels_dest[hemi] if label.name[:-3] in labels_destr_reg\n",
    "        ]\n",
    "        labels_reg_hemi_concat = labels_reg_hemi[0].copy()\n",
    "        for label in labels_reg_hemi[1:]:\n",
    "            labels_reg_hemi_concat += label\n",
    "        # Get coordinates\n",
    "        labels_reg_hemi_concat_coords = labels_reg_hemi_concat.pos.mean(axis=0) * 1000  # mm\n",
    "        coords_mnia[hemi].append(labels_reg_hemi_concat_coords)\n",
    "        "
   ]
  },
  {
   "cell_type": "code",
   "execution_count": 181,
   "metadata": {},
   "outputs": [],
   "source": [
    "coords_mnia[\"lh\"] = np.array(coords_mnia[\"lh\"])\n",
    "coords_mnia[\"rh\"] = np.array(coords_mnia[\"rh\"])"
   ]
  },
  {
   "cell_type": "code",
   "execution_count": 182,
   "metadata": {},
   "outputs": [
    {
     "data": {
      "text/plain": [
       "(72, 3)"
      ]
     },
     "execution_count": 182,
     "metadata": {},
     "output_type": "execute_result"
    }
   ],
   "source": [
    "labels_mnia_all = np.concatenate([coords_mnia[\"lh\"], coords_mnia[\"rh\"]])\n",
    "labels_mnia_all.shape"
   ]
  },
  {
   "cell_type": "code",
   "execution_count": 261,
   "metadata": {},
   "outputs": [],
   "source": [
    "idx = [i + \"_lh\" for i in df_mnia_dest.dropna()[\"MNIA\"].unique()] + [i + \"_rh\" for i in df_mnia_dest.dropna()[\"MNIA\"].unique()]\n",
    "pd.DataFrame(labels_mnia_all, columns=[\"x\", \"y\", \"z\"], index=idx).to_csv(\"F:\\iEEG_neural_dynamics\\MNIOpen\\mnia_centroids_coords.csv\")"
   ]
  },
  {
   "cell_type": "markdown",
   "metadata": {},
   "source": [
    "Sample data to test:"
   ]
  },
  {
   "cell_type": "code",
   "execution_count": 233,
   "metadata": {},
   "outputs": [],
   "source": [
    "# Dataframe with the fit parameters on each MNI region\n",
    "df_sc_params_mni = pd.read_csv(\"F:/iEEG_neural_dynamics/MNIOpen/Results_SC/SC_R_fit_mni_regs.csv\", index_col=0)\n",
    "\n",
    "# Dataframe with timescales for all electrodes\n",
    "df_tau = pd.read_csv(\"F:/iEEG_neural_dynamics/MNIOpen/Results/all_tau.csv\", index_col=0)\n",
    "df_tau_mni = uti.get_avg_tau_mni(df_tau[df_tau[\"stage\"] == \"R\"].copy())\n",
    "df_tau_mni = df_tau_mni.loc[df_sc_params_mni.index]"
   ]
  },
  {
   "cell_type": "code",
   "execution_count": 234,
   "metadata": {},
   "outputs": [
    {
     "data": {
      "text/plain": [
       "True"
      ]
     },
     "execution_count": 234,
     "metadata": {},
     "output_type": "execute_result"
    }
   ],
   "source": [
    "# Separate cortical and amygdala/hippocampus regions\n",
    "df_tau_mni_ctx = df_tau_mni.drop([\"Amygdala\", \"Hippocampus\"])\n",
    "df_tau_mni_ha = df_tau_mni.loc[[\"Amygdala\", \"Hippocampus\"]]\n",
    "df_sc_params_mni_ctx = df_sc_params_mni.drop([\"Amygdala\", \"Hippocampus\"])\n",
    "df_sc_params_mni_ha = df_sc_params_mni.loc[[\"Amygdala\", \"Hippocampus\"]]\n",
    "np.array_equal(df_tau_mni_ctx.index, df_sc_params_mni_ctx.index)"
   ]
  },
  {
   "cell_type": "code",
   "execution_count": 235,
   "metadata": {},
   "outputs": [
    {
     "data": {
      "image/png": "[encoded data removed]",
      "text/plain": [
       "<Figure size 600x600 with 1 Axes>"
      ]
     },
     "metadata": {},
     "output_type": "display_data"
    }
   ],
   "source": [
    "plt.figure(figsize=(6, 6))\n",
    "plt.plot(df_tau_mni, df_sc_params_mni[\"b\"], \"ko\")\n",
    "plt.plot(df_tau_mni_ctx, df_sc_params_mni_ctx[\"b\"], \"ro\")\n",
    "plt.show()"
   ]
  },
  {
   "cell_type": "markdown",
   "metadata": {},
   "source": [
    "Generate null maps for x:"
   ]
  },
  {
   "cell_type": "code",
   "execution_count": 249,
   "metadata": {},
   "outputs": [
    {
     "data": {
      "text/plain": [
       "(72, 1000)"
      ]
     },
     "execution_count": 249,
     "metadata": {},
     "output_type": "execute_result"
    }
   ],
   "source": [
    "nspins = 1000\n",
    "hemiid = np.array([0] * len(df_tau_mni_ctx) + [1] * len(df_tau_mni_ctx))\n",
    "spins = uti.gen_spinsamples(labels_mnia_all, hemiid, nspins, method=\"vasa\")\n",
    "spins.shape"
   ]
  },
  {
   "cell_type": "code",
   "execution_count": 250,
   "metadata": {},
   "outputs": [],
   "source": [
    "df_xx = pd.concat([df_tau_mni_ctx, df_tau_mni_ctx])\n",
    "df_yy = pd.concat([df_sc_params_mni_ctx, df_sc_params_mni_ctx])"
   ]
  },
  {
   "cell_type": "code",
   "execution_count": 254,
   "metadata": {},
   "outputs": [
    {
     "name": "stdout",
     "output_type": "stream",
     "text": [
      "-0.39271255060728744 -0.33153153153153153\n"
     ]
    },
    {
     "name": "stderr",
     "output_type": "stream",
     "text": [
      "C:\\Users\\ricca\\AppData\\Local\\Temp\\ipykernel_19020\\1211802650.py:14: FutureWarning: Series.__getitem__ treating keys as positions is deprecated. In a future version, integer keys will always be treated as labels (consistent with DataFrame behavior). To access a value by position, use `ser.iloc[pos]`\n",
      "  x_perm = df_xx[spins[:, spin]].to_list() + df_tau_mni_ha.to_list() * 2\n"
     ]
    }
   ],
   "source": [
    "corrtype = \"spearman\"\n",
    "\n",
    "if corrtype == \"spearman\":\n",
    "    corrval = spearmanr(df_tau_mni, df_sc_params_mni[\"b\"])[0]\n",
    "    corrval_ctx = spearmanr(df_tau_mni_ctx, df_sc_params_mni_ctx[\"b\"])[0]\n",
    "    print(corrval, corrval_ctx)\n",
    "elif corrtype == \"pearson\":\n",
    "    corrval = pearsonr(df_tau_mni, df_sc_params_mni[\"b\"])[0]\n",
    "    corrval_ctx = pearsonr(df_tau_mni_ctx, df_sc_params_mni_ctx[\"b\"])[0]\n",
    "    print(corrval, corrval_ctx)\n",
    "\n",
    "permuted_p = np.zeros(nspins)\n",
    "for spin in range(nspins):\n",
    "    x_perm = df_xx[spins[:, spin]].to_list() + df_tau_mni_ha.to_list() * 2\n",
    "    y_perm = df_yy[\"b\"].to_list() + df_sc_params_mni_ha[\"b\"].to_list() * 2\n",
    "    if corrtype == \"spearman\":\n",
    "        permuted_p[spin] = spearmanr(x_perm, y_perm)[0]\n",
    "    elif corrtype == \"pearson\":\n",
    "        permuted_p[spin] = pearsonr(x_perm, y_perm)[0]"
   ]
  },
  {
   "cell_type": "code",
   "execution_count": 255,
   "metadata": {},
   "outputs": [
    {
     "data": {
      "image/png": "[encoded data removed]",
      "text/plain": [
       "<Figure size 600x600 with 1 Axes>"
      ]
     },
     "metadata": {},
     "output_type": "display_data"
    }
   ],
   "source": [
    "import matplotlib.pyplot as plt\n",
    "\n",
    "plt.figure(figsize=(6, 6))\n",
    "plt.hist(permuted_p, alpha=0.5, label=\"permuted\")\n",
    "plt.axvline(corrval, color=\"red\", label=\"corrval\")\n",
    "plt.axvline(corrval_ctx, color=\"g\", label=\"corrval\")\n",
    "plt.show()"
   ]
  },
  {
   "cell_type": "markdown",
   "metadata": {},
   "source": [
    "\"Normal\" approach (just take values smaller than the null maps):"
   ]
  },
  {
   "cell_type": "code",
   "execution_count": 256,
   "metadata": {},
   "outputs": [
    {
     "name": "stdout",
     "output_type": "stream",
     "text": [
      "0.019\n"
     ]
    }
   ],
   "source": [
    "permmean = np.mean(permuted_p)\n",
    "print((abs(permuted_p - permmean) > abs(corrval - permmean)).mean())\n",
    "# print((abs(permuted_p - permmean) > abs(corrval_ctx - permmean)).mean())"
   ]
  }
 ],
 "metadata": {
  "kernelspec": {
   "display_name": "neural_dynamics",
   "language": "python",
   "name": "python3"
  },
  "language_info": {
   "codemirror_mode": {
    "name": "ipython",
    "version": 3
   },
   "file_extension": ".py",
   "mimetype": "text/x-python",
   "name": "python",
   "nbconvert_exporter": "python",
   "pygments_lexer": "ipython3",
   "version": "3.10.8"
  }
 },
 "nbformat": 4,
 "nbformat_minor": 2
}
