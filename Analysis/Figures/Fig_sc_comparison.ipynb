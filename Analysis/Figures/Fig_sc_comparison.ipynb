{
 "cells": [
  {
   "cell_type": "markdown",
   "metadata": {},
   "source": [
    "Fourth figure of the manuscript, showing Cross-correlation analyses. \n",
    "- Fitting results\n",
    "- brain maps\n",
    "- correlations of spatial parameter b with timescales for LFP and gamma"
   ]
  },
  {
   "cell_type": "code",
   "execution_count": 1,
   "metadata": {},
   "outputs": [],
   "source": [
    "%load_ext autoreload\n",
    "%autoreload 2"
   ]
  },
  {
   "cell_type": "code",
   "execution_count": 2,
   "metadata": {},
   "outputs": [],
   "source": [
    "from pathlib import Path\n",
    "from copy import deepcopy\n",
    "import pandas as pd\n",
    "import numpy as np\n",
    "from scipy.stats import bootstrap, ttest_rel, false_discovery_control\n",
    "import matplotlib.pyplot as plt\n",
    "import mne\n",
    "import nilearn\n",
    "from nilearn import surface as nisurf\n",
    "\n",
    "from mnitimescales import plots, utils\n",
    "\n",
    "plots._set_font_params()"
   ]
  },
  {
   "cell_type": "markdown",
   "metadata": {},
   "source": [
    "Imports and definitions:"
   ]
  },
  {
   "cell_type": "code",
   "execution_count": 3,
   "metadata": {},
   "outputs": [],
   "source": [
    "stages = [\"W\", \"N3\", \"R\"]\n",
    "stage_colors = {\"W\": \"red\", \"N2\": \"cyan\", \"N3\": \"purple\", \"R\": \"green\"}\n",
    "title_dict = {\"W\": \"Wake\", \"N2\": \"NREM2\", \"N3\": \"NREM3\", \"R\": \"REM\"}\n",
    "corr_type = \"pearson\"\n",
    "\n",
    "# Paths\n",
    "data_path = Path(\"F:\\\\MNIOpen\")\n",
    "sc_path = data_path.joinpath(\"Results\", \"test_sc_broadband\")\n",
    "sc_gamma_path = data_path.joinpath(\"Results\", \"test_sc_gamma\")\n",
    "tau_path = data_path.joinpath(\"Results\", \"timescales_broadband\")\n",
    "tau_gamma_path = data_path.joinpath(\"Results\", \"timescales_gamma\")\n",
    "fig_path = data_path.joinpath(\"Figures\", \"Fig_sc\")\n",
    "fig_path.mkdir(exist_ok=True, parents=True)\n",
    "\n",
    "# Dataframe with data on broadband\n",
    "df_sc_bb = {\n",
    "    stage: pd.read_csv(sc_path.joinpath(f\"sc_{stage}.csv\"), index_col=0)\n",
    "    for stage in stages\n",
    "}\n",
    "df_sc_gamma = {\n",
    "    stage: pd.read_csv(sc_gamma_path.joinpath(f\"sc_{stage}.csv\"), index_col=0)\n",
    "    for stage in stages\n",
    "}\n",
    "\n",
    "# Dataframe with timescales for all electrodes\n",
    "df_timescales_bb = pd.read_csv(tau_path.joinpath(\"tau_stages.csv\"), index_col=0)\n",
    "df_timescales_gamma = pd.read_csv(tau_gamma_path.joinpath(\"tau_stages.csv\"), index_col=0)"
   ]
  },
  {
   "cell_type": "markdown",
   "metadata": {},
   "source": [
    "TODO: plots for gamma and broadband in all stages"
   ]
  },
  {
   "cell_type": "code",
   "execution_count": null,
   "metadata": {},
   "outputs": [],
   "source": [
    "delta_d = 10\n",
    "distances = np.arange(delta_d, 121, 10)\n",
    "index = pd.MultiIndex.from_product(\n",
    "    [list(df_sc_stages[\"W\"][\"region_1\"].unique()), distances],\n",
    "    names=[\"region\", \"distance\"],\n",
    ")\n",
    "df_avg_d = pd.DataFrame(\n",
    "    columns=[\"W\", \"N3\", \"R\"],\n",
    "    index=index,\n",
    ")\n",
    "\n",
    "for reg in df_avg_d.index.get_level_values(\"region\").unique():\n",
    "    for dist in distances:\n",
    "        for stage in stages:\n",
    "\n",
    "            df_avg_d.loc[(reg, dist), stage] = (\n",
    "                df_sc_stages[stage][\"corr\"][\n",
    "                    (\n",
    "                        (df_sc_stages[stage][\"region_1\"] == reg)\n",
    "                        | (df_sc_stages[stage][\"region_2\"] == reg)\n",
    "                    )\n",
    "                    & (df_sc_stages[stage][\"dist\"] <= dist + delta_d)\n",
    "                    & (df_sc_stages[stage][\"dist\"] > dist - delta_d)\n",
    "                ]\n",
    "                .abs()\n",
    "                .mean()\n",
    "            )\n",
    "\n",
    "df_avg_d.reset_index(inplace=True)"
   ]
  },
  {
   "cell_type": "code",
   "execution_count": null,
   "metadata": {},
   "outputs": [
    {
     "name": "stdout",
     "output_type": "stream",
     "text": [
      "Generating 1000 permutations...\n",
      "Generating 1000 permutations...\n",
      "Generating 1000 permutations...\n",
      "Generating 1000 permutations...\n",
      "Generating 1000 permutations...\n",
      "Generating 1000 permutations...\n",
      "Generating 1000 permutations...\n",
      "Generating 1000 permutations...\n",
      "Generating 1000 permutations...\n",
      "Generating 1000 permutations...\n",
      "Generating 1000 permutations...\n",
      "Generating 1000 permutations...\n"
     ]
    }
   ],
   "source": [
    "df_rhos_d = pd.DataFrame(index=df_avg_d[\"distance\"].unique(), columns=[\"rho\", \"rho_se\", \"pval\"], dtype=float)\n",
    "\n",
    "# Get average tau per MNI region\n",
    "df_tau_stage_mni = utils.get_avg_tau_mni(\n",
    "    df_timescales[df_timescales[\"stage\"] == \"R\"].copy(), method=\"LME\"\n",
    ")\n",
    "\n",
    "for dist in df_avg_d[\"distance\"].unique():\n",
    "\n",
    "    # print(f\"Stage: {stage}, Param: {param}\")\n",
    "\n",
    "    # Get spatial parameter\n",
    "    df_spa = df_avg_d[df_avg_d[\"distance\"] == dist].set_index(\"region\")\n",
    "    df_spa = df_spa[\"R\"].dropna()\n",
    "\n",
    "    # Map coords\n",
    "    map_coords_dist = map_coords.loc[\n",
    "        list(df_spa.index.drop([\"Amygdala\", \"Hippocampus\"], errors=\"ignore\") + \"_lh\")\n",
    "        + list(df_spa.index.drop([\"Amygdala\", \"Hippocampus\"], errors=\"ignore\") + \"_rh\")\n",
    "    ]\n",
    "\n",
    "    # Get correlation values\n",
    "    rho, p_corr = utils.get_pcorr_mnia(\n",
    "        df_tau_stage_mni.loc[df_spa.index],\n",
    "        df_spa,\n",
    "        map_coords_dist,\n",
    "        method=\"vasa\",\n",
    "        corr_type=\"pearson\",\n",
    "        # nspins=0,\n",
    "    )\n",
    "\n",
    "    # df_rhos.loc[param, stage] = rho\n",
    "    # df_pvals.loc[param, stage] = p_corr\n",
    "    rho_boot = utils.get_rho_boot(\n",
    "        df_tau_stage_mni.loc[df_spa.index],\n",
    "        df_spa, corr_type=\"pearson\", nboot=1000\n",
    "    )\n",
    "\n",
    "    df_rhos_d.loc[dist, \"rho\"] = rho\n",
    "    df_rhos_d.loc[dist, \"rho_se\"] = rho_boot.standard_error\n",
    "    df_rhos_d.loc[dist, \"pval\"] = p_corr"
   ]
  },
  {
   "cell_type": "code",
   "execution_count": null,
   "metadata": {},
   "outputs": [
    {
     "data": {
      "image/png": "[encoded data removed]",
      "text/plain": [
       "<Figure size 640x480 with 1 Axes>"
      ]
     },
     "metadata": {},
     "output_type": "display_data"
    }
   ],
   "source": [
    "plt.plot(df_rhos_d.index, df_rhos_d[\"rho\"])\n",
    "plt.fill_between(df_rhos_d.index, df_rhos_d[\"rho\"] - df_rhos_d[\"rho_se\"], df_rhos_d[\"rho\"] + df_rhos_d[\"rho_se\"], alpha=0.2)\n",
    "sig_dist = df_rhos_d.index[false_discovery_control(df_rhos_d[\"pval\"]) < 0.05]\n",
    "plt.scatter(sig_dist, [0.65] * len(sig_dist), marker=\"*\", c=\"k\", s=16)\n",
    "plt.axhline(0.0, color=\"k\", ls=\"--\")\n",
    "plt.ylim(-0.4, 0.7)\n",
    "plt.show()"
   ]
  },
  {
   "cell_type": "code",
   "execution_count": null,
   "metadata": {},
   "outputs": [
    {
     "data": {
      "text/plain": [
       "array([0.078     , 0.624     , 0.274     , 0.189     , 0.189     ,\n",
       "       0.552     , 0.8376    , 0.876     , 0.1968    , 0.048     ,\n",
       "       0.906     , 0.63333333])"
      ]
     },
     "metadata": {},
     "output_type": "display_data"
    }
   ],
   "source": [
    "false_discovery_control(df_rhos_d[\"pval\"])"
   ]
  }
 ],
 "metadata": {
  "kernelspec": {
   "display_name": "neural_dynamics",
   "language": "python",
   "name": "python3"
  },
  "language_info": {
   "codemirror_mode": {
    "name": "ipython",
    "version": 3
   },
   "file_extension": ".py",
   "mimetype": "text/x-python",
   "name": "python",
   "nbconvert_exporter": "python",
   "pygments_lexer": "ipython3",
   "version": "3.10.14"
  }
 },
 "nbformat": 4,
 "nbformat_minor": 2
}
