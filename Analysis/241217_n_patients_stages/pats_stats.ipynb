{
 "cells": [
  {
   "cell_type": "code",
   "execution_count": 1,
   "metadata": {},
   "outputs": [],
   "source": [
    "import yaml\n",
    "import pickle\n",
    "import os\n",
    "from pathlib import Path\n",
    "import numpy as np\n",
    "import pandas as pd\n",
    "from ast import literal_eval\n",
    "from mnitimescales import plots\n",
    "import matplotlib.pyplot as plt"
   ]
  },
  {
   "cell_type": "markdown",
   "metadata": {},
   "source": [
    "Inputs:"
   ]
  },
  {
   "cell_type": "code",
   "execution_count": 2,
   "metadata": {},
   "outputs": [],
   "source": [
    "inputs_file = Path(os.path.abspath(\"\")).joinpath(\"inputs.yaml\")\n",
    "with open(inputs_file, \"r\") as f:\n",
    "    inputs = yaml.safe_load(f)"
   ]
  },
  {
   "cell_type": "markdown",
   "metadata": {},
   "source": [
    "Files and paths:"
   ]
  },
  {
   "cell_type": "code",
   "execution_count": 3,
   "metadata": {},
   "outputs": [],
   "source": [
    "base_path = Path(inputs[\"base_path\"])\n",
    "data_path = base_path.joinpath(inputs[\"results_dir\"], inputs[\"data_dir\"])"
   ]
  },
  {
   "cell_type": "markdown",
   "metadata": {},
   "source": [
    "Import all data:"
   ]
  },
  {
   "cell_type": "code",
   "execution_count": 5,
   "metadata": {},
   "outputs": [
    {
     "data": {
      "text/html": [
       "<div>\n",
       "<style scoped>\n",
       "    .dataframe tbody tr th:only-of-type {\n",
       "        vertical-align: middle;\n",
       "    }\n",
       "\n",
       "    .dataframe tbody tr th {\n",
       "        vertical-align: top;\n",
       "    }\n",
       "\n",
       "    .dataframe thead th {\n",
       "        text-align: right;\n",
       "    }\n",
       "</style>\n",
       "<table border=\"1\" class=\"dataframe\">\n",
       "  <thead>\n",
       "    <tr style=\"text-align: right;\">\n",
       "      <th></th>\n",
       "      <th>pat</th>\n",
       "      <th>age</th>\n",
       "      <th>gender</th>\n",
       "      <th>chan</th>\n",
       "      <th>type</th>\n",
       "      <th>stage</th>\n",
       "      <th>region</th>\n",
       "      <th>mni_x</th>\n",
       "      <th>mni_y</th>\n",
       "      <th>mni_z</th>\n",
       "      <th>tau</th>\n",
       "    </tr>\n",
       "  </thead>\n",
       "  <tbody>\n",
       "    <tr>\n",
       "      <th>0</th>\n",
       "      <td>1</td>\n",
       "      <td>34</td>\n",
       "      <td>M</td>\n",
       "      <td>GD001Lc_11</td>\n",
       "      <td>D</td>\n",
       "      <td>W</td>\n",
       "      <td>Middle temporal gyrus</td>\n",
       "      <td>-56.0</td>\n",
       "      <td>-37.0</td>\n",
       "      <td>-2.0</td>\n",
       "      <td>13.398834</td>\n",
       "    </tr>\n",
       "    <tr>\n",
       "      <th>1</th>\n",
       "      <td>1</td>\n",
       "      <td>34</td>\n",
       "      <td>M</td>\n",
       "      <td>GD001Lc_12</td>\n",
       "      <td>D</td>\n",
       "      <td>W</td>\n",
       "      <td>Middle temporal gyrus</td>\n",
       "      <td>-60.0</td>\n",
       "      <td>-37.0</td>\n",
       "      <td>-4.0</td>\n",
       "      <td>20.055755</td>\n",
       "    </tr>\n",
       "    <tr>\n",
       "      <th>2</th>\n",
       "      <td>1</td>\n",
       "      <td>34</td>\n",
       "      <td>M</td>\n",
       "      <td>GD001Lc_13</td>\n",
       "      <td>D</td>\n",
       "      <td>W</td>\n",
       "      <td>Middle temporal gyrus</td>\n",
       "      <td>-63.0</td>\n",
       "      <td>-37.0</td>\n",
       "      <td>-2.0</td>\n",
       "      <td>14.876871</td>\n",
       "    </tr>\n",
       "    <tr>\n",
       "      <th>3</th>\n",
       "      <td>1</td>\n",
       "      <td>34</td>\n",
       "      <td>M</td>\n",
       "      <td>GD001Lc_14</td>\n",
       "      <td>D</td>\n",
       "      <td>W</td>\n",
       "      <td>Middle temporal gyrus</td>\n",
       "      <td>-68.0</td>\n",
       "      <td>-38.0</td>\n",
       "      <td>-2.0</td>\n",
       "      <td>78.419525</td>\n",
       "    </tr>\n",
       "    <tr>\n",
       "      <th>4</th>\n",
       "      <td>1</td>\n",
       "      <td>34</td>\n",
       "      <td>M</td>\n",
       "      <td>GD001Lo_1</td>\n",
       "      <td>D</td>\n",
       "      <td>W</td>\n",
       "      <td>Medial frontal cortex</td>\n",
       "      <td>-1.0</td>\n",
       "      <td>42.0</td>\n",
       "      <td>-14.0</td>\n",
       "      <td>32.630354</td>\n",
       "    </tr>\n",
       "  </tbody>\n",
       "</table>\n",
       "</div>"
      ],
      "text/plain": [
       "   pat  age gender        chan type stage                 region  mni_x  \\\n",
       "0    1   34      M  GD001Lc_11    D     W  Middle temporal gyrus  -56.0   \n",
       "1    1   34      M  GD001Lc_12    D     W  Middle temporal gyrus  -60.0   \n",
       "2    1   34      M  GD001Lc_13    D     W  Middle temporal gyrus  -63.0   \n",
       "3    1   34      M  GD001Lc_14    D     W  Middle temporal gyrus  -68.0   \n",
       "4    1   34      M   GD001Lo_1    D     W  Medial frontal cortex   -1.0   \n",
       "\n",
       "   mni_y  mni_z        tau  \n",
       "0  -37.0   -2.0  13.398834  \n",
       "1  -37.0   -4.0  20.055755  \n",
       "2  -37.0   -2.0  14.876871  \n",
       "3  -38.0   -2.0  78.419525  \n",
       "4   42.0  -14.0  32.630354  "
      ]
     },
     "execution_count": 5,
     "metadata": {},
     "output_type": "execute_result"
    }
   ],
   "source": [
    "df_res = pd.read_csv(\n",
    "    data_path.joinpath(\"tau_stages.csv\"),\n",
    "    index_col=0\n",
    ")\n",
    "df_res.head()"
   ]
  },
  {
   "cell_type": "code",
   "execution_count": 7,
   "metadata": {},
   "outputs": [
    {
     "data": {
      "text/plain": [
       "((1772, 11), (1468, 11), (1012, 11))"
      ]
     },
     "execution_count": 7,
     "metadata": {},
     "output_type": "execute_result"
    }
   ],
   "source": [
    "df_res[df_res[\"stage\"] == \"W\"].shape, df_res[df_res[\"stage\"] == \"N3\"].shape, df_res[df_res[\"stage\"] == \"R\"].shape"
   ]
  },
  {
   "cell_type": "code",
   "execution_count": 9,
   "metadata": {},
   "outputs": [
    {
     "data": {
      "text/plain": [
       "(106, 91, 65)"
      ]
     },
     "execution_count": 9,
     "metadata": {},
     "output_type": "execute_result"
    }
   ],
   "source": [
    "(len(df_res[df_res[\"stage\"] == \"W\"][\"pat\"].unique()),\n",
    " len(df_res[df_res[\"stage\"] == \"N3\"][\"pat\"].unique()),\n",
    " len(df_res[df_res[\"stage\"] == \"R\"][\"pat\"].unique()))"
   ]
  },
  {
   "cell_type": "code",
   "execution_count": null,
   "metadata": {},
   "outputs": [],
   "source": []
  }
 ],
 "metadata": {
  "kernelspec": {
   "display_name": "mni_analysis",
   "language": "python",
   "name": "python3"
  },
  "language_info": {
   "codemirror_mode": {
    "name": "ipython",
    "version": 3
   },
   "file_extension": ".py",
   "mimetype": "text/x-python",
   "name": "python",
   "nbconvert_exporter": "python",
   "pygments_lexer": "ipython3",
   "version": "3.10.14"
  }
 },
 "nbformat": 4,
 "nbformat_minor": 2
}
