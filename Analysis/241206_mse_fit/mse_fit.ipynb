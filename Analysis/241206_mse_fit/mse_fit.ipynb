{
 "cells": [
  {
   "cell_type": "code",
   "execution_count": 2,
   "metadata": {},
   "outputs": [],
   "source": [
    "import yaml\n",
    "import pickle\n",
    "import os\n",
    "from pathlib import Path\n",
    "import numpy as np\n",
    "import pandas as pd\n",
    "from ast import literal_eval\n",
    "from mnitimescales import plots\n",
    "import matplotlib.pyplot as plt"
   ]
  },
  {
   "cell_type": "markdown",
   "metadata": {},
   "source": [
    "Inputs:"
   ]
  },
  {
   "cell_type": "code",
   "execution_count": 3,
   "metadata": {},
   "outputs": [],
   "source": [
    "inputs_file = Path(os.path.abspath(\"\")).joinpath(\"inputs.yaml\")\n",
    "with open(inputs_file, \"r\") as f:\n",
    "    inputs = yaml.safe_load(f)"
   ]
  },
  {
   "cell_type": "markdown",
   "metadata": {},
   "source": [
    "Files and paths:"
   ]
  },
  {
   "cell_type": "code",
   "execution_count": 5,
   "metadata": {},
   "outputs": [],
   "source": [
    "base_path = Path(inputs[\"base_path\"])\n",
    "tau_path = base_path.joinpath(inputs[\"results_dir\"], inputs[\"data_dir\"], \"Pats\")"
   ]
  },
  {
   "cell_type": "markdown",
   "metadata": {},
   "source": [
    "Functions:"
   ]
  },
  {
   "cell_type": "code",
   "execution_count": 27,
   "metadata": {},
   "outputs": [],
   "source": [
    "def exp_decay(params, t):\n",
    "    return params[\"a\"] * (np.exp(-t / params[\"tau\"]) + params[\"b\"])\n",
    "\n",
    "def rmse(y_data, y_fit):\n",
    "    assert y_data.shape == y_fit.shape, \"Inputs must be the same shape!\"\n",
    "\n",
    "    mse = np.mean((y_data[:, 1:] - y_fit[:, 1:]) ** 2, axis=1)\n",
    "\n",
    "    return np.sqrt(mse)"
   ]
  },
  {
   "cell_type": "markdown",
   "metadata": {},
   "source": [
    "## Gather data and compute RMSE"
   ]
  },
  {
   "cell_type": "code",
   "execution_count": 36,
   "metadata": {},
   "outputs": [
    {
     "data": {
      "text/html": [
       "<div>\n",
       "<style scoped>\n",
       "    .dataframe tbody tr th:only-of-type {\n",
       "        vertical-align: middle;\n",
       "    }\n",
       "\n",
       "    .dataframe tbody tr th {\n",
       "        vertical-align: top;\n",
       "    }\n",
       "\n",
       "    .dataframe thead th {\n",
       "        text-align: right;\n",
       "    }\n",
       "</style>\n",
       "<table border=\"1\" class=\"dataframe\">\n",
       "  <thead>\n",
       "    <tr style=\"text-align: right;\">\n",
       "      <th></th>\n",
       "      <th>pat</th>\n",
       "      <th>chans</th>\n",
       "      <th>stage</th>\n",
       "      <th>rmse</th>\n",
       "    </tr>\n",
       "  </thead>\n",
       "  <tbody>\n",
       "    <tr>\n",
       "      <th>0</th>\n",
       "      <td>001</td>\n",
       "      <td>GD001Lc_11</td>\n",
       "      <td>W</td>\n",
       "      <td>0.071956</td>\n",
       "    </tr>\n",
       "    <tr>\n",
       "      <th>1</th>\n",
       "      <td>001</td>\n",
       "      <td>GD001Lc_12</td>\n",
       "      <td>W</td>\n",
       "      <td>0.085135</td>\n",
       "    </tr>\n",
       "    <tr>\n",
       "      <th>2</th>\n",
       "      <td>001</td>\n",
       "      <td>GD001Lc_13</td>\n",
       "      <td>W</td>\n",
       "      <td>0.071427</td>\n",
       "    </tr>\n",
       "    <tr>\n",
       "      <th>3</th>\n",
       "      <td>001</td>\n",
       "      <td>GD001Lc_14</td>\n",
       "      <td>W</td>\n",
       "      <td>0.133293</td>\n",
       "    </tr>\n",
       "    <tr>\n",
       "      <th>4</th>\n",
       "      <td>001</td>\n",
       "      <td>GD001Lo_1</td>\n",
       "      <td>W</td>\n",
       "      <td>0.068619</td>\n",
       "    </tr>\n",
       "  </tbody>\n",
       "</table>\n",
       "</div>"
      ],
      "text/plain": [
       "   pat       chans stage      rmse\n",
       "0  001  GD001Lc_11     W  0.071956\n",
       "1  001  GD001Lc_12     W  0.085135\n",
       "2  001  GD001Lc_13     W  0.071427\n",
       "3  001  GD001Lc_14     W  0.133293\n",
       "4  001   GD001Lo_1     W  0.068619"
      ]
     },
     "execution_count": 36,
     "metadata": {},
     "output_type": "execute_result"
    }
   ],
   "source": [
    "df_rmse = []\n",
    "\n",
    "pats = [p.stem for p in tau_path.glob(\"*\")]\n",
    "for pat in pats:\n",
    "    pat_path = tau_path.joinpath(pat)\n",
    "    for i, stage in enumerate([\"W\", \"N3\", \"R\"]):\n",
    "        # Load ACF\n",
    "        file_name = pat + \"_\" + stage.lower() + \".pkl\"\n",
    "        try:\n",
    "            with open(pat_path.joinpath(inputs[\"acf_dir\"], file_name), \"rb\") as f:\n",
    "                acf_pat_stage = pickle.load(f)\n",
    "        except FileNotFoundError:\n",
    "            continue\n",
    "\n",
    "        # Load fit\n",
    "        file_name = pat + \"_\" + stage + \"_tau.csv\"\n",
    "        df_fit = pd.read_csv(\n",
    "            pat_path.joinpath(inputs[\"acf_dir\"], file_name),\n",
    "            index_col=0,\n",
    "        )\n",
    "        df_fit[[\"tau\", \"a\", \"b\"]] = df_fit.apply(\n",
    "            lambda row: literal_eval(\n",
    "                    \" \".join(row[\"params\"].split())\n",
    "                    .replace(\"[ \", \"[\")\n",
    "                    .replace(\" ]\", \"]\")\n",
    "                    .replace(\" \", \",\")\n",
    "                ),\n",
    "                axis=\"columns\",\n",
    "                result_type='expand'\n",
    "        )\n",
    "        df_fit.drop(columns=[\"params\"], inplace=True)\n",
    "\n",
    "        # Compute RMSE\n",
    "        y_fit = np.array(df_fit.apply(exp_decay, t=acf_pat_stage[\"lags\"], axis=1).tolist())\n",
    "        y_data = acf_pat_stage[\"acf\"].mean(axis=0)\n",
    "        rmse_pat_stage = rmse(y_data, y_fit)\n",
    "        n = len(acf_pat_stage[\"chans\"])\n",
    "        df = pd.DataFrame(\n",
    "            {\"pat\": [pat] * n,\n",
    "             \"chans\": acf_pat_stage[\"chans\"],\n",
    "             \"stage\": [stage] * n, \n",
    "             \"rmse\": rmse_pat_stage}\n",
    "            )\n",
    "        df_rmse.append(df)\n",
    "\n",
    "df_rmse = pd.concat(df_rmse, ignore_index=True)\n",
    "df_rmse.head()"
   ]
  },
  {
   "cell_type": "markdown",
   "metadata": {},
   "source": [
    "## Plot RMSEs"
   ]
  },
  {
   "cell_type": "code",
   "execution_count": 43,
   "metadata": {},
   "outputs": [
    {
     "data": {
      "image/png": "[encoded data removed]",
      "text/plain": [
       "<Figure size 1200x400 with 3 Axes>"
      ]
     },
     "metadata": {},
     "output_type": "display_data"
    }
   ],
   "source": [
    "fig, axs = plt.subplots(1, 3, figsize=(12, 4), layout=\"constrained\", sharex=True)\n",
    "\n",
    "for i, stage in enumerate(inputs[\"stages\"]):\n",
    "    df_rmse_stage = df_rmse[df_rmse[\"stage\"] == stage]\n",
    "    axs[i].hist(df_rmse_stage[\"rmse\"], bins=20, range=(0, 0.3),\n",
    "                color=inputs[\"color_stages\"][stage], alpha=0.6)\n",
    "    axs[i].set_title(inputs[\"title_dict\"][stage], fontsize=plots.fsize.TITLE_SIZE)\n",
    "axs[1].set_xlabel(\"Fit RMSE [au]\", fontsize=plots.fsize.LABEL_SIZE)\n",
    "axs[0].set_ylabel(\"Count\", fontsize=plots.fsize.LABEL_SIZE)\n",
    "plt.show()"
   ]
  },
  {
   "cell_type": "code",
   "execution_count": 44,
   "metadata": {},
   "outputs": [
    {
     "data": {
      "text/html": [
       "<div>\n",
       "<style scoped>\n",
       "    .dataframe tbody tr th:only-of-type {\n",
       "        vertical-align: middle;\n",
       "    }\n",
       "\n",
       "    .dataframe tbody tr th {\n",
       "        vertical-align: top;\n",
       "    }\n",
       "\n",
       "    .dataframe thead th {\n",
       "        text-align: right;\n",
       "    }\n",
       "</style>\n",
       "<table border=\"1\" class=\"dataframe\">\n",
       "  <thead>\n",
       "    <tr style=\"text-align: right;\">\n",
       "      <th></th>\n",
       "      <th>pat</th>\n",
       "      <th>chans</th>\n",
       "      <th>stage</th>\n",
       "      <th>rmse</th>\n",
       "    </tr>\n",
       "  </thead>\n",
       "  <tbody>\n",
       "    <tr>\n",
       "      <th>831</th>\n",
       "      <td>026</td>\n",
       "      <td>GD026Lm_8</td>\n",
       "      <td>W</td>\n",
       "      <td>0.261074</td>\n",
       "    </tr>\n",
       "    <tr>\n",
       "      <th>1292</th>\n",
       "      <td>039</td>\n",
       "      <td>GD039Lf_1</td>\n",
       "      <td>W</td>\n",
       "      <td>0.303173</td>\n",
       "    </tr>\n",
       "    <tr>\n",
       "      <th>1710</th>\n",
       "      <td>048</td>\n",
       "      <td>GD048Ls_1</td>\n",
       "      <td>W</td>\n",
       "      <td>0.289900</td>\n",
       "    </tr>\n",
       "    <tr>\n",
       "      <th>1711</th>\n",
       "      <td>048</td>\n",
       "      <td>GD048Ls_2</td>\n",
       "      <td>W</td>\n",
       "      <td>0.291482</td>\n",
       "    </tr>\n",
       "    <tr>\n",
       "      <th>1768</th>\n",
       "      <td>049</td>\n",
       "      <td>GD049Rw04</td>\n",
       "      <td>W</td>\n",
       "      <td>0.267545</td>\n",
       "    </tr>\n",
       "    <tr>\n",
       "      <th>2946</th>\n",
       "      <td>081</td>\n",
       "      <td>MD081LFus4</td>\n",
       "      <td>W</td>\n",
       "      <td>0.256064</td>\n",
       "    </tr>\n",
       "    <tr>\n",
       "      <th>3035</th>\n",
       "      <td>083</td>\n",
       "      <td>MM083ROs1</td>\n",
       "      <td>W</td>\n",
       "      <td>0.374785</td>\n",
       "    </tr>\n",
       "    <tr>\n",
       "      <th>3036</th>\n",
       "      <td>083</td>\n",
       "      <td>MM083ROs2</td>\n",
       "      <td>W</td>\n",
       "      <td>0.259198</td>\n",
       "    </tr>\n",
       "    <tr>\n",
       "      <th>3169</th>\n",
       "      <td>085</td>\n",
       "      <td>MM085LPCu4</td>\n",
       "      <td>W</td>\n",
       "      <td>0.270638</td>\n",
       "    </tr>\n",
       "    <tr>\n",
       "      <th>3339</th>\n",
       "      <td>089</td>\n",
       "      <td>MD089LHp9</td>\n",
       "      <td>W</td>\n",
       "      <td>0.258057</td>\n",
       "    </tr>\n",
       "    <tr>\n",
       "      <th>3380</th>\n",
       "      <td>090</td>\n",
       "      <td>MM090RL3</td>\n",
       "      <td>W</td>\n",
       "      <td>0.273075</td>\n",
       "    </tr>\n",
       "    <tr>\n",
       "      <th>3562</th>\n",
       "      <td>098</td>\n",
       "      <td>NA098RP62</td>\n",
       "      <td>W</td>\n",
       "      <td>0.251128</td>\n",
       "    </tr>\n",
       "    <tr>\n",
       "      <th>3942</th>\n",
       "      <td>106</td>\n",
       "      <td>NA106LU13</td>\n",
       "      <td>W</td>\n",
       "      <td>0.323232</td>\n",
       "    </tr>\n",
       "  </tbody>\n",
       "</table>\n",
       "</div>"
      ],
      "text/plain": [
       "      pat       chans stage      rmse\n",
       "831   026   GD026Lm_8     W  0.261074\n",
       "1292  039   GD039Lf_1     W  0.303173\n",
       "1710  048   GD048Ls_1     W  0.289900\n",
       "1711  048   GD048Ls_2     W  0.291482\n",
       "1768  049   GD049Rw04     W  0.267545\n",
       "2946  081  MD081LFus4     W  0.256064\n",
       "3035  083   MM083ROs1     W  0.374785\n",
       "3036  083   MM083ROs2     W  0.259198\n",
       "3169  085  MM085LPCu4     W  0.270638\n",
       "3339  089   MD089LHp9     W  0.258057\n",
       "3380  090    MM090RL3     W  0.273075\n",
       "3562  098   NA098RP62     W  0.251128\n",
       "3942  106   NA106LU13     W  0.323232"
      ]
     },
     "execution_count": 44,
     "metadata": {},
     "output_type": "execute_result"
    }
   ],
   "source": [
    "df_rmse[(df_rmse[\"stage\"] == \"W\") & (df_rmse[\"rmse\"] > 0.25)]"
   ]
  },
  {
   "cell_type": "code",
   "execution_count": null,
   "metadata": {},
   "outputs": [],
   "source": []
  }
 ],
 "metadata": {
  "kernelspec": {
   "display_name": "mni_analysis",
   "language": "python",
   "name": "python3"
  },
  "language_info": {
   "codemirror_mode": {
    "name": "ipython",
    "version": 3
   },
   "file_extension": ".py",
   "mimetype": "text/x-python",
   "name": "python",
   "nbconvert_exporter": "python",
   "pygments_lexer": "ipython3",
   "version": "3.10.14"
  }
 },
 "nbformat": 4,
 "nbformat_minor": 2
}
