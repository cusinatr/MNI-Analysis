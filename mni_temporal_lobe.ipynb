{
 "cells": [
  {
   "cell_type": "markdown",
   "metadata": {},
   "source": [
    "Re-create results of the paper \"Intrinsic Neural Timescales in the Temporal Lobe Support an Auditory Processing Hierarchy\" for the MNI dataset, including temporal and insular cortex."
   ]
  },
  {
   "cell_type": "code",
   "execution_count": 1,
   "metadata": {},
   "outputs": [],
   "source": [
    "%load_ext autoreload\n",
    "%autoreload 2\n",
    "\n",
    "from pathlib import Path\n",
    "import pandas as pd\n",
    "import numpy as np\n",
    "import matplotlib.pyplot as plt"
   ]
  },
  {
   "cell_type": "markdown",
   "metadata": {},
   "source": [
    "### Import data"
   ]
  },
  {
   "cell_type": "code",
   "execution_count": 2,
   "metadata": {},
   "outputs": [],
   "source": [
    "data_path = Path(\"F:\\\\iEEG_neural_dynamics\\\\MNIOpen\")\n",
    "res_tau_path = data_path.joinpath(\"Results_acf_fit_exp\")\n",
    "res_exp_path = data_path.joinpath(\"Results_psd_exp\")\n",
    "save_path = data_path.joinpath(\"Results_Temporal_Lobe\")"
   ]
  },
  {
   "cell_type": "code",
   "execution_count": 3,
   "metadata": {},
   "outputs": [],
   "source": [
    "df_regions = pd.read_csv(data_path.joinpath(\"RegionInformation.csv\"), index_col=0)\n",
    "df_tau = pd.read_csv(res_tau_path.joinpath(\"all_tau.csv\"), index_col=0)\n",
    "df_exp = pd.read_csv(res_exp_path.joinpath(\"all_knee.csv\"), index_col=0)"
   ]
  },
  {
   "cell_type": "markdown",
   "metadata": {},
   "source": [
    "### Select only temporal and insular regions"
   ]
  },
  {
   "cell_type": "code",
   "execution_count": 4,
   "metadata": {},
   "outputs": [],
   "source": [
    "temp_regs = df_regions[df_regions[\"Lobe\"] == \"Temporal\"][\"Region name\"].str.strip(\"'\").to_list()\n",
    "df_tau = df_tau[df_tau[\"region\"].isin(temp_regs)]\n",
    "df_exp = df_exp[df_exp[\"region\"].isin(temp_regs)]\n",
    "df_exp.drop(columns=[\"tau\"], inplace=True)"
   ]
  },
  {
   "cell_type": "code",
   "execution_count": 5,
   "metadata": {},
   "outputs": [
    {
     "data": {
      "text/plain": [
       "['Superior temporal gyrus',\n",
       " 'Middle temporal gyrus',\n",
       " 'Inferior temporal gyrus',\n",
       " 'Temporal pole and planum polare',\n",
       " 'Transverse temporal gyrus',\n",
       " 'Planum temporale',\n",
       " 'Fusiform and parahippocampal gyri',\n",
       " 'Hippocampus',\n",
       " 'Amygdala']"
      ]
     },
     "execution_count": 5,
     "metadata": {},
     "output_type": "execute_result"
    }
   ],
   "source": [
    "temp_regs"
   ]
  },
  {
   "cell_type": "code",
   "execution_count": 6,
   "metadata": {},
   "outputs": [],
   "source": [
    "df_tau[\"subreg\"] = df_tau[\"region\"].copy()\n",
    "df_tau[\"region\"] = df_tau[\"region\"].map({\n",
    "    \"Amygdala\": \"AMY\",\n",
    "    \"Hippocampus\": \"HIP\",\n",
    "    \"Fusiform and parahippocampal gyri\": \"ENT\",\n",
    "    \"Anterior insula\": \"CTX\",\n",
    "    \"Posterior insula\": \"CTX\",\n",
    "    \"Superior temporal gyrus\": \"CTX\",\n",
    "    \"Middle temporal gyrus\": \"CTX\",\n",
    "    \"Inferior temporal gyrus\": \"CTX\",\n",
    "    \"Temporal pole and planum polare\": \"CTX\",\n",
    "    \"Transverse temporal gyrus\": \"CTX\",\n",
    "    \"Planum temporale\": \"CTX\",\n",
    "})\n",
    "df_tau[\"subreg\"] = df_tau[\"subreg\"].map({\n",
    "    \"Amygdala\": \"\",\n",
    "    \"Hippocampus\": \"\",\n",
    "    \"Fusiform and parahippocampal gyri\": \"\",\n",
    "    \"Anterior insula\": \"INSULA\",\n",
    "    \"Posterior insula\": \"INSULA\",\n",
    "    \"Superior temporal gyrus\": \"STG\",\n",
    "    \"Middle temporal gyrus\": \"MTG\",\n",
    "    \"Inferior temporal gyrus\": \"ITG\",\n",
    "    \"Temporal pole and planum polare\": \"POLE\",\n",
    "    \"Transverse temporal gyrus\": \"TTG\",\n",
    "    \"Planum temporale\": \"PT\",\n",
    "})\n",
    "\n",
    "df_exp[\"subreg\"] = df_exp[\"region\"].copy()\n",
    "df_exp[\"region\"] = df_exp[\"region\"].map({\n",
    "    \"Amygdala\": \"AMY\",\n",
    "    \"Hippocampus\": \"HIP\",\n",
    "    \"Fusiform and parahippocampal gyri\": \"ENT\",\n",
    "    \"Anterior insula\": \"CTX\",\n",
    "    \"Posterior insula\": \"CTX\",\n",
    "    \"Superior temporal gyrus\": \"CTX\",\n",
    "    \"Middle temporal gyrus\": \"CTX\",\n",
    "    \"Inferior temporal gyrus\": \"CTX\",\n",
    "    \"Temporal pole and planum polare\": \"CTX\",\n",
    "    \"Transverse temporal gyrus\": \"CTX\",\n",
    "    \"Planum temporale\": \"CTX\",\n",
    "})\n",
    "df_exp[\"subreg\"] = df_exp[\"subreg\"].map({\n",
    "    \"Amygdala\": \"\",\n",
    "    \"Hippocampus\": \"\",\n",
    "    \"Fusiform and parahippocampal gyri\": \"\",\n",
    "    \"Anterior insula\": \"INSULA\",\n",
    "    \"Posterior insula\": \"INSULA\",\n",
    "    \"Superior temporal gyrus\": \"STG\",\n",
    "    \"Middle temporal gyrus\": \"MTG\",\n",
    "    \"Inferior temporal gyrus\": \"ITG\",\n",
    "    \"Temporal pole and planum polare\": \"POLE\",\n",
    "    \"Transverse temporal gyrus\": \"TTG\",\n",
    "    \"Planum temporale\": \"PT\",\n",
    "})"
   ]
  },
  {
   "cell_type": "code",
   "execution_count": 7,
   "metadata": {},
   "outputs": [],
   "source": [
    "for stage in [\"W\", \"N3\", \"R\"]:\n",
    "    df_tau_stage = df_tau[df_tau[\"stage\"] == stage].copy()\n",
    "    df_tau_stage.dropna(inplace=True)\n",
    "    df_tau_stage.to_csv(save_path.joinpath(f\"tau_{stage}.csv\"))\n",
    "    df_tau_stage_mni = df_tau_stage[[\"pat\", \"chan\", \"region\", \"mni_x\", \"mni_y\", \"mni_z\"]].copy()\n",
    "    df_tau_stage_mni.to_csv(save_path.joinpath(f\"tau_mni_{stage}.csv\"))\n",
    "    df_exp_stage = df_exp[df_exp[\"stage\"] == stage].copy()\n",
    "    df_exp_stage.dropna(inplace=True)\n",
    "    df_exp_stage.to_csv(save_path.joinpath(f\"exp_{stage}.csv\"))\n",
    "    df_exp_stage_mni = df_exp_stage[[\"pat\", \"chan\", \"region\", \"mni_x\", \"mni_y\", \"mni_z\"]].copy()\n",
    "    df_exp_stage_mni.to_csv(save_path.joinpath(f\"exp_mni_{stage}.csv\"))"
   ]
  },
  {
   "cell_type": "code",
   "execution_count": null,
   "metadata": {},
   "outputs": [],
   "source": []
  }
 ],
 "metadata": {
  "kernelspec": {
   "display_name": "neural_dynamics",
   "language": "python",
   "name": "python3"
  },
  "language_info": {
   "codemirror_mode": {
    "name": "ipython",
    "version": 3
   },
   "file_extension": ".py",
   "mimetype": "text/x-python",
   "name": "python",
   "nbconvert_exporter": "python",
   "pygments_lexer": "ipython3",
   "version": "3.10.8"
  }
 },
 "nbformat": 4,
 "nbformat_minor": 2
}
